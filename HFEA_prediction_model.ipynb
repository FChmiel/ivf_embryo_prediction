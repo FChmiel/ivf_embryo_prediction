{
 "cells": [
  {
   "cell_type": "code",
   "execution_count": 10,
   "metadata": {},
   "outputs": [
    {
     "ename": "AttributeError",
     "evalue": "module 'seaborn' has no attribute 'grays_palette'",
     "output_type": "error",
     "traceback": [
      "\u001b[1;31m-----------------------------------------------------------------------\u001b[0m",
      "\u001b[1;31mAttributeError\u001b[0m                        Traceback (most recent call last)",
      "\u001b[1;32m<ipython-input-10-47f82e354e6f>\u001b[0m in \u001b[0;36m<module>\u001b[1;34m\u001b[0m\n\u001b[0;32m      5\u001b[0m \u001b[1;32mimport\u001b[0m \u001b[0mmatplotlib\u001b[0m\u001b[1;33m.\u001b[0m\u001b[0mpyplot\u001b[0m \u001b[1;32mas\u001b[0m \u001b[0mplt\u001b[0m\u001b[1;33m\u001b[0m\u001b[1;33m\u001b[0m\u001b[0m\n\u001b[0;32m      6\u001b[0m \u001b[1;32mimport\u001b[0m \u001b[0mseaborn\u001b[0m \u001b[1;32mas\u001b[0m \u001b[0msns\u001b[0m\u001b[1;33m\u001b[0m\u001b[1;33m\u001b[0m\u001b[0m\n\u001b[1;32m----> 7\u001b[1;33m \u001b[0msns\u001b[0m\u001b[1;33m.\u001b[0m\u001b[0mset_palette\u001b[0m\u001b[1;33m(\u001b[0m\u001b[0msns\u001b[0m\u001b[1;33m.\u001b[0m\u001b[0mgrays_palette\u001b[0m\u001b[1;33m(\u001b[0m\u001b[1;36m6\u001b[0m\u001b[1;33m,\u001b[0m \u001b[0mstart\u001b[0m\u001b[1;33m=\u001b[0m\u001b[1;36m.5\u001b[0m\u001b[1;33m,\u001b[0m \u001b[0mrot\u001b[0m\u001b[1;33m=\u001b[0m\u001b[1;33m-\u001b[0m\u001b[1;36m.75\u001b[0m\u001b[1;33m)\u001b[0m\u001b[1;33m)\u001b[0m\u001b[1;33m\u001b[0m\u001b[1;33m\u001b[0m\u001b[0m\n\u001b[0m\u001b[0;32m      8\u001b[0m \u001b[1;33m\u001b[0m\u001b[0m\n\u001b[0;32m      9\u001b[0m \u001b[1;32mfrom\u001b[0m \u001b[0msklearn\u001b[0m\u001b[1;33m.\u001b[0m\u001b[0mmodel_selection\u001b[0m \u001b[1;32mimport\u001b[0m \u001b[1;33m(\u001b[0m\u001b[0mtrain_test_split\u001b[0m\u001b[1;33m,\u001b[0m \u001b[0mKFold\u001b[0m\u001b[1;33m,\u001b[0m \u001b[0mGridSearchCV\u001b[0m\u001b[1;33m)\u001b[0m\u001b[1;33m\u001b[0m\u001b[1;33m\u001b[0m\u001b[0m\n",
      "\u001b[1;31mAttributeError\u001b[0m: module 'seaborn' has no attribute 'grays_palette'"
     ]
    }
   ],
   "source": [
    "import pandas as pd\n",
    "import numpy as np\n",
    "\n",
    "# plotting libraries\n",
    "import matplotlib.pyplot as plt\n",
    "import seaborn as sns\n",
    "sns.set_palette(sns.cubehelix_palette(6, start=.5, rot=-.75))\n",
    "\n",
    "from sklearn.model_selection import (train_test_split, KFold, GridSearchCV)\n",
    "\n",
    "from sklearn.metrics import (roc_auc_score, roc_curve)\n",
    "\n",
    "# machine learning libraries\n",
    "from xgboost import XGBClassifier\n",
    "\n",
    "import utils\n",
    "from preprocessing import (format_columns, \n",
    "                           create_cohort, \n",
    "                           create_target, \n",
    "                           drop_anomalous_cycles,\n",
    "                           encode_columns)\n",
    "\n",
    "from modelling import (create_training_test,\n",
    "                       fit_model,\n",
    "                       tune_model)\n",
    "\n",
    "colors = sns.color_palette()\n",
    "\n",
    "age_groups = ['18-34', '35-37', '38-39', '40-42', '43-44', '45-50']"
   ]
  },
  {
   "cell_type": "markdown",
   "metadata": {},
   "source": [
    "# Notebook introduction\n",
    "\n",
    "This notebook shows an example model development in support of the publication *'Accurately predicting patients’ chance of cryopreservation during Covid-19 pandemic - can machine-learning models help?'*. In it we use publically available data (see data availability section) to develop machine-learning models to predict the chance of an IVF/ICSI cycle yielding a D5 embryo suitable for cryopreservation or transfer.\n",
    "\n",
    "\n",
    "\n",
    "## Data availability \n",
    "\n",
    "Presented graphs and models were constructed using the 2015-2016 Anonymised register data of fertility treatment cycles performed in the UK, collated and released by the Human Fertilisation and Embryo Authority. It is freely available from their [website](https://www.hfea.gov.uk/about-us/our-data/)."
   ]
  },
  {
   "cell_type": "markdown",
   "metadata": {},
   "source": [
    "# 0. Load the data and create the cohort"
   ]
  },
  {
   "cell_type": "code",
   "execution_count": 3,
   "metadata": {},
   "outputs": [
    {
     "name": "stderr",
     "output_type": "stream",
     "text": [
      "c:\\users\\fpc\\envs\\ivf\\lib\\site-packages\\IPython\\core\\interactiveshell.py:3051: DtypeWarning: Columns (6,7,29,31,32,43,48,50,51,52,53,54,77,83,89,90,91,92) have mixed types. Specify dtype option on import or set low_memory=False.\n",
      "  interactivity=interactivity, compiler=compiler, result=result)\n"
     ]
    },
    {
     "name": "stdout",
     "output_type": "stream",
     "text": [
      "(158519, 95)\n",
      "(86169, 96)\n"
     ]
    }
   ],
   "source": [
    "df = pd.read_csv('data/ar-2015-2016.csv')\n",
    "\n",
    "print(df.shape)\n",
    "\n",
    "df = (df.pipe(format_columns)\n",
    "        .pipe(create_cohort)\n",
    "        .pipe(create_target)\n",
    "        .pipe(drop_anomalous_cycles))\n",
    "\n",
    "print(df.shape)"
   ]
  },
  {
   "cell_type": "markdown",
   "metadata": {},
   "source": [
    "## 0.1 Number of patients in each class"
   ]
  },
  {
   "cell_type": "code",
   "execution_count": 4,
   "metadata": {},
   "outputs": [
    {
     "data": {
      "text/plain": [
       "target\n",
       "0.0    37455\n",
       "1.0    48714\n",
       "Name: Patient Age at Treatment, dtype: int64"
      ]
     },
     "execution_count": 4,
     "metadata": {},
     "output_type": "execute_result"
    }
   ],
   "source": [
    "df.groupby('target')['Patient Age at Treatment'].count()"
   ]
  },
  {
   "cell_type": "markdown",
   "metadata": {},
   "source": [
    "## 0.2 Number of patients in each age group"
   ]
  },
  {
   "cell_type": "code",
   "execution_count": 5,
   "metadata": {},
   "outputs": [
    {
     "data": {
      "text/plain": [
       "Patient Age at Treatment\n",
       "18-34    37063\n",
       "35-37    19925\n",
       "38-39    12862\n",
       "40-42    12103\n",
       "43-44     3247\n",
       "45-50      969\n",
       "Name: target, dtype: int64"
      ]
     },
     "execution_count": 5,
     "metadata": {},
     "output_type": "execute_result"
    }
   ],
   "source": [
    "df.groupby('Patient Age at Treatment')['target'].count()"
   ]
  },
  {
   "cell_type": "markdown",
   "metadata": {},
   "source": [
    "# 1 Initial data analysis"
   ]
  },
  {
   "cell_type": "markdown",
   "metadata": {},
   "source": [
    "## 1.1 Number of eggs collected by age group\n",
    "\n",
    "Outliers are not shown since the distributions have long tails."
   ]
  },
  {
   "cell_type": "code",
   "execution_count": 6,
   "metadata": {
    "scrolled": false
   },
   "outputs": [
    {
     "data": {
      "image/png": "[encoded data removed]",
      "text/plain": [
       "<Figure size 432x288 with 1 Axes>"
      ]
     },
     "metadata": {
      "needs_background": "light"
     },
     "output_type": "display_data"
    }
   ],
   "source": [
    "fig, ax = plt.subplots()\n",
    "sns.boxplot(x='Patient Age at Treatment', y='Fresh Eggs Collected', ax=ax, data=df,\n",
    "           order=age_groups, showfliers=False)\n",
    "ax.set_ylabel('Oocyte count')\n",
    "utils.remove_axes(ax)\n",
    "plt.savefig('images/eggs_collected_by_age.png', dpi=300, bbox_inches='tight')"
   ]
  },
  {
   "cell_type": "markdown",
   "metadata": {},
   "source": [
    "## 1.2 Proportion of patients with suitable embryos by oocyte count\n",
    "\n",
    "Panel a, Non-linear relation between number of embryos suitable for D5 transfer or freezing and the occyte count (number of eggs collected).\n",
    "\n",
    "Panel b, highlights that age is an additional factor (older patients have a reduced chance of the cycle yielding a suitable embryo, even if they have the same oocyte count as a younger person)."
   ]
  },
  {
   "cell_type": "code",
   "execution_count": 21,
   "metadata": {},
   "outputs": [
    {
     "data": {
      "image/png": "[encoded data removed]",
      "text/plain": [
       "<Figure size 360x162 with 2 Axes>"
      ]
     },
     "metadata": {
      "needs_background": "light"
     },
     "output_type": "display_data"
    }
   ],
   "source": [
    "fig, axs = plt.subplots(ncols=2)\n",
    "\n",
    "\n",
    "# plot for all patients\n",
    "egg_outcome = df.groupby('Fresh Eggs Collected')['target'].agg(['mean','count'])\n",
    "mean_error = utils.calculate_proportion_error(egg_outcome['mean'].values, egg_outcome['count'].values)\n",
    "\n",
    "utils.plot_line_with_confidence(x=egg_outcome.index,\n",
    "                          y=egg_outcome['mean'].values*100,\n",
    "                          err=mean_error*100,\n",
    "                          ax=axs[0], \n",
    "                          plot_params={'color':colors[-1], 'lw':1.5},\n",
    "                          fill_params={'color':colors[-2], 'alpha':0.35})\n",
    "\n",
    "# plot for segregated by age\n",
    "for age in enumerate(age_groups[:-1]:\n",
    "    mask = df['Patient Age at Treatment']==age\n",
    "    egg_outcome = df[mask].groupby('Fresh Eggs Collected')['target'].agg(['mean','count'])\n",
    "    mean_error = utils.calculate_proportion_error(egg_outcome['mean'].values, egg_outcome['count'].values)\n",
    "\n",
    "    utils.plot_line_with_confidence(x=egg_outcome.index,\n",
    "                              y=egg_outcome['mean'].values*100,\n",
    "                              err=mean_error*100,\n",
    "                              ax=axs[1], \n",
    "                              plot_params={'label':age, 'lw':1.5, color=colors[i]},\n",
    "                              fill_params={'alpha':0.35})\n",
    "    \n",
    "# tidy up plots and add labels\n",
    "axs[1].legend(fontsize=9)\n",
    "plt.setp(axs[1].get_yticklabels(), visible=False)\n",
    "axs[0].set_ylabel('Treatment cycles with \\nat least one D5 embryo (%)')\n",
    "for ax in axs:\n",
    "    ax.set_xlabel('Oocyte count')\n",
    "fig.set_size_inches(5,2.25)\n",
    "axs[0].text(0.75, 92, 'a)', fontsize=12)\n",
    "axs[1].text(0.75, 92, 'b)', fontsize=12)\n",
    "plt.savefig('images/cycles_with_suitable_embryos.png', dpi=300, bbox_inches='tight')"
   ]
  },
  {
   "cell_type": "markdown",
   "metadata": {},
   "source": [
    "## 1.3 Proportion of patients with suitable embryos by age group"
   ]
  },
  {
   "cell_type": "code",
   "execution_count": 18,
   "metadata": {},
   "outputs": [],
   "source": [
    "colors = ['#f0f0f0',\n",
    "'#d9d9d9',\n",
    "'#bdbdbd',\n",
    "'#969696',\n",
    "'#737373',\n",
    "'#525252',\n",
    "'#252525']"
   ]
  },
  {
   "cell_type": "code",
   "execution_count": 19,
   "metadata": {},
   "outputs": [
    {
     "data": {
      "image/png": "[encoded data removed]",
      "text/plain": [
       "<Figure size 288x216 with 1 Axes>"
      ]
     },
     "metadata": {
      "needs_background": "light"
     },
     "output_type": "display_data"
    }
   ],
   "source": [
    "age_grouping = df.groupby('Patient Age at Treatment')['target'].agg(['mean', 'count'])\n",
    "\n",
    "\n",
    "x = age_grouping.index\n",
    "y = age_grouping['mean'].values\n",
    "c = age_grouping['count'].values\n",
    "\n",
    "errors  = utils.calculate_proportion_error(y, c)\n",
    "\n",
    "# plot the figure\n",
    "\n",
    "fig, ax = plt.subplots()\n",
    "\n",
    "ax.bar(np.arange(0,len(y)), y*100, yerr=errors*100, capsize=2, color=colors[1:])\n",
    "ax.set_ylabel('Treatment cycles with \\nat least one D5 embryo (%)')\n",
    "utils.remove_axes(ax)\n",
    "\n",
    "# set the xtick labels\n",
    "ax.set_xticklabels([''] + age_groups)\n",
    "ax.set_xlabel('Age group (years)')\n",
    "\n",
    "fig.set_size_inches(4,3)\n",
    "plt.savefig('images/cycles_with_embryos_by_age_group.png', dpi=300, bbox_inches='tight')"
   ]
  },
  {
   "cell_type": "markdown",
   "metadata": {},
   "source": [
    "## 1.4 Proportion of patients with suitable embryos by infertility diagnosis"
   ]
  },
  {
   "cell_type": "code",
   "execution_count": 9,
   "metadata": {},
   "outputs": [],
   "source": [
    "infertility_columns = [col for col in df.columns if col.startswith('Cause of Infertility')]"
   ]
  },
  {
   "cell_type": "code",
   "execution_count": 11,
   "metadata": {},
   "outputs": [
    {
     "name": "stderr",
     "output_type": "stream",
     "text": [
      "c:\\users\\fpc\\envs\\ivf\\lib\\site-packages\\numpy\\core\\fromnumeric.py:3335: RuntimeWarning: Mean of empty slice.\n",
      "  out=out, **kwargs)\n",
      "c:\\users\\fpc\\envs\\ivf\\lib\\site-packages\\numpy\\core\\_methods.py:161: RuntimeWarning: invalid value encountered in double_scalars\n",
      "  ret = ret.dtype.type(ret / rcount)\n"
     ]
    },
    {
     "data": {
      "image/png": "[encoded data removed]",
      "text/plain": [
       "<Figure size 288x216 with 1 Axes>"
      ]
     },
     "metadata": {
      "needs_background": "light"
     },
     "output_type": "display_data"
    }
   ],
   "source": [
    "age='18-34'\n",
    "\n",
    "means = []\n",
    "errors = []\n",
    "for col in infertility_columns:\n",
    "    mask = (df[col]==1) & (df['Patient Age at Treatment']==age)\n",
    "    infertility_target = df.loc[mask, 'target'].values\n",
    "    mean_embryos = np.mean(infertility_target)\n",
    "    count_embryos = len(infertility_target)\n",
    "    error = utils.calculate_proportion_error(mean_embryos, count_embryos)\n",
    "    means.append(mean_embryos)\n",
    "    errors.append(error)\n",
    "    \n",
    "# make the figure\n",
    "xlabels = [col.replace('Cause of Infertility - ', '') for col in infertility_columns]\n",
    "\n",
    "fig, ax = plt.subplots()\n",
    "ax.bar(xlabels[:5], np.array(means[:5])*100, yerr=np.array(errors[:5])*100, capsize=2, color=colors[:4])\n",
    "utils.remove_axes(ax)\n",
    "plt.setp(ax.get_xticklabels(), rotation=90)\n",
    "ax.set_title('Infertility diagnosis : {} years'.format(age), fontsize=11)\n",
    "ax.set_ylabel('Cycles with suitable embryos (%)')\n",
    "fig.set_size_inches(4,3)\n",
    "plt.savefig('images/cycles_with_embryos_by_infertility_diagnosis_{}.png'.format(age), dpi=300, bbox_inches='tight')"
   ]
  },
  {
   "cell_type": "markdown",
   "metadata": {},
   "source": [
    "# 2 Model development\n"
   ]
  },
  {
   "cell_type": "code",
   "execution_count": 12,
   "metadata": {},
   "outputs": [],
   "source": [
    "# basic encoding, so no significant need for this to be performed in-fold.\n",
    "df = encode_columns(df)"
   ]
  },
  {
   "cell_type": "markdown",
   "metadata": {},
   "source": [
    "## 2.1 Model 1\n",
    "\n",
    "In this section we evaluate the performance of a models each trained with only one of the available features.\n",
    "\n",
    "The features we use are:\n",
    "    - Patient Age\n",
    "    - Number of eggs collected\n",
    "    - Infertility diagnosis (Encoded with one-hot-encoding)\n",
    "    \n",
    "   \n",
    "Models are evaluted using cross-validation on training set only. \n",
    "\n",
    "\n",
    "The infertility columns show a small amount of promise, but this maybe because they latently encode age  - for example patients with ovulatory disorder are more likely to present for fertility treatment at a younger age."
   ]
  },
  {
   "cell_type": "code",
   "execution_count": 15,
   "metadata": {},
   "outputs": [],
   "source": [
    "infertility_columns = [col for col in df.columns if col.startswith('Cause of Infertility')]\n",
    "features = ['Patient Age at Treatment','Fresh Eggs Collected'] + [infertility_columns[:5]]"
   ]
  },
  {
   "cell_type": "code",
   "execution_count": 17,
   "metadata": {},
   "outputs": [
    {
     "name": "stdout",
     "output_type": "stream",
     "text": [
      "---------------\n",
      "Patient Age at Treatment\n",
      "Train AUROC: 0.637 +/- 0.001\n",
      "Validation AUROC: 0.637 +/- 0.003\n",
      "---------------\n",
      "Fresh Eggs Collected\n",
      "Train AUROC: 0.839 +/- 0.001\n",
      "Validation AUROC: 0.839 +/- 0.004\n",
      "---------------\n",
      "['Cause of Infertility - Tubal disease', 'Cause of Infertility - Ovulatory Disorder', 'Cause of Infertility - Male Factor', 'Cause of Infertility - Patient Unexplained', 'Cause of Infertility - Endometriosis']\n",
      "Train AUROC: 0.563 +/- 0.001\n",
      "Validation AUROC: 0.562 +/- 0.005\n"
     ]
    }
   ],
   "source": [
    "nfolds = 5\n",
    "\n",
    "for feature in features:\n",
    "    X, _, y, _ = create_training_test(df, features=feature, seed=123) # seed ensure same training set\n",
    "    cv_scores = np.zeros(nfolds)\n",
    "    trn_scores = np.zeros(nfolds)\n",
    "    cv_splitter = KFold(n_splits=nfolds)\n",
    "    for i, (trn_idx, val_idx) in enumerate(cv_splitter.split(X)):\n",
    "        X_trn, X_val = X[trn_idx], X[val_idx]\n",
    "        y_trn, y_val = y[trn_idx], y[val_idx]\n",
    "        clf = XGBClassifier()\n",
    "        # reshape X if only one feature\n",
    "        try:\n",
    "            X_trn.shape[1]\n",
    "        except:\n",
    "            X_trn = X_trn.reshape((-1,1))\n",
    "            X_val = X_val.reshape((-1,1))\n",
    "        clf.fit(X_trn, y_trn)\n",
    "        trn_preds = clf.predict_proba(X_trn)[:,1]\n",
    "        val_preds = clf.predict_proba(X_val)[:,1]\n",
    "        trn_scores[i] = roc_auc_score(y_trn, trn_preds)\n",
    "        cv_scores[i] = roc_auc_score(y_val, val_preds)\n",
    "    print('---'*5)\n",
    "    print(f'{feature}')\n",
    "    print(f'Train AUROC: {np.mean(trn_scores):.3f} +/- {(1.96/(nfolds)**0.5)*np.std(trn_scores):.3f}')\n",
    "    print(f'Validation AUROC: {np.mean(cv_scores):.3f} +/- {(1.96/(nfolds)**0.5)*np.std(cv_scores):.3f}')"
   ]
  },
  {
   "cell_type": "markdown",
   "metadata": {},
   "source": [
    "### 2.2 Model 2\n",
    "\n",
    "Two feature (Age and number of eggs/oocytes collected) model evaluted on the training and validation set.\n"
   ]
  },
  {
   "cell_type": "code",
   "execution_count": 22,
   "metadata": {},
   "outputs": [],
   "source": [
    "features = ['Patient Age at Treatment','Fresh Eggs Collected']"
   ]
  },
  {
   "cell_type": "code",
   "execution_count": 23,
   "metadata": {},
   "outputs": [
    {
     "name": "stdout",
     "output_type": "stream",
     "text": [
      "---------------\n",
      "Train AUROC: 0.648 +/- 0.001\n",
      "Validation AUROC: 0.647 +/- 0.004\n"
     ]
    }
   ],
   "source": [
    "nfolds = 5\n",
    "X, _, y, _ = create_training_test(df, features=features, seed=123) # seed ensure same training set\n",
    "cv_scores = np.zeros(nfolds)\n",
    "trn_scores = np.zeros(nfolds)\n",
    "cv_splitter = KFold(n_splits=nfolds)\n",
    "for i, (trn_idx, val_idx) in enumerate(cv_splitter.split(X)):\n",
    "    X_trn, X_val = X[trn_idx], X[val_idx]\n",
    "    y_trn, y_val = y[trn_idx], y[val_idx]\n",
    "    clf = XGBClassifier()\n",
    "    clf.fit(X_trn, y_trn)\n",
    "    trn_preds = clf.predict_proba(X_trn)[:,1]\n",
    "    val_preds = clf.predict_proba(X_val)[:,1]\n",
    "    trn_scores[i] = roc_auc_score(y_trn, trn_preds)\n",
    "    cv_scores[i] = roc_auc_score(y_val, val_preds)\n",
    "print('---'*5)\n",
    "print(f'Train AUROC: {np.mean(trn_scores):.3f} +/- {(1.96/(nfolds)**0.5)*np.std(trn_scores):.3f}')\n",
    "print(f'Validation AUROC: {np.mean(cv_scores):.3f} +/- {(1.96/(nfolds)**0.5)*np.std(cv_scores):.3f}')"
   ]
  },
  {
   "cell_type": "markdown",
   "metadata": {},
   "source": [
    "## 2.3  Model 3\n",
    "\n",
    "Looking at a model including all three features.\n",
    "\n",
    "Infertility diagnosis appears to add a very small improvement, but not necessarily significant. We will include it since it is unlikely to be deterimental to the final model evaluation."
   ]
  },
  {
   "cell_type": "code",
   "execution_count": 30,
   "metadata": {},
   "outputs": [],
   "source": [
    "features = ['Patient Age at Treatment', 'Fresh Eggs Collected'] + infertility_columns[:5]"
   ]
  },
  {
   "cell_type": "code",
   "execution_count": 31,
   "metadata": {},
   "outputs": [
    {
     "name": "stdout",
     "output_type": "stream",
     "text": [
      "---------------\n",
      "Train AUROC: 0.845 +/- 0.001\n",
      "Validation AUROC: 0.844 +/- 0.003\n"
     ]
    }
   ],
   "source": [
    "nfolds = 5\n",
    "X, _, y, _ = create_training_test(df, features=features, seed=123) # seed ensure same training set\n",
    "cv_scores = np.zeros(nfolds)\n",
    "trn_scores = np.zeros(nfolds)\n",
    "cv_splitter = KFold(n_splits=nfolds)\n",
    "for i, (trn_idx, val_idx) in enumerate(cv_splitter.split(X)):\n",
    "    X_trn, X_val = X[trn_idx], X[val_idx]\n",
    "    y_trn, y_val = y[trn_idx], y[val_idx]\n",
    "    clf = XGBClassifier()\n",
    "    clf.fit(X_trn, y_trn)\n",
    "    trn_preds = clf.predict_proba(X_trn)[:,1]\n",
    "    val_preds = clf.predict_proba(X_val)[:,1]\n",
    "    trn_scores[i] = roc_auc_score(y_trn, trn_preds)\n",
    "    cv_scores[i] = roc_auc_score(y_val, val_preds)\n",
    "print('---'*5)\n",
    "print(f'Train AUROC: {np.mean(trn_scores):.3f} +/- {(1.96/(nfolds)**0.5)*np.std(trn_scores):.3f}')\n",
    "print(f'Validation AUROC: {np.mean(cv_scores):.3f} +/- {(1.96/(nfolds)**0.5)*np.std(cv_scores):.3f}')"
   ]
  },
  {
   "cell_type": "markdown",
   "metadata": {},
   "source": [
    "# 3. Hyperparameter tuning and final model evaluation\n",
    "\n",
    "With only three features, an XGBoost model is overkill, but we can control complexity with n_estimators and max_depth parameters."
   ]
  },
  {
   "cell_type": "code",
   "execution_count": 32,
   "metadata": {},
   "outputs": [],
   "source": [
    "features = ['Patient Age at Treatment','Fresh Eggs Collected'] + infertility_columns[:5]"
   ]
  },
  {
   "cell_type": "code",
   "execution_count": 33,
   "metadata": {},
   "outputs": [],
   "source": [
    "param_grid =  {'max_depth':[2,3,4],'subsample':[1,0.9, 0.8], 'gamma':[1,5,10,25], 'learning_rate':[0.05,0.025,0.1], 'n_estimators':[75,100, 125]}"
   ]
  },
  {
   "cell_type": "code",
   "execution_count": 34,
   "metadata": {},
   "outputs": [],
   "source": [
    "# perform boot strapping for errors\n",
    "X, Xt, y, yt = create_training_test(df, features=features)\n",
    "\n",
    "hyperparameters = tune_model(X, y, param_grid=param_grid)"
   ]
  },
  {
   "cell_type": "code",
   "execution_count": 35,
   "metadata": {},
   "outputs": [
    {
     "data": {
      "text/plain": [
       "{'gamma': 1,\n",
       " 'learning_rate': 0.1,\n",
       " 'max_depth': 3,\n",
       " 'n_estimators': 100,\n",
       " 'subsample': 0.8}"
      ]
     },
     "execution_count": 35,
     "metadata": {},
     "output_type": "execute_result"
    }
   ],
   "source": [
    "hyperparameters.best_params_"
   ]
  },
  {
   "cell_type": "markdown",
   "metadata": {},
   "source": [
    "# 3.1 Train the final model\n",
    "\n",
    "- Bootstrapping is performed and the model evaluated on the hold-out test\n",
    "- Best hyperparameters on the validation set are used."
   ]
  },
  {
   "cell_type": "code",
   "execution_count": 36,
   "metadata": {},
   "outputs": [
    {
     "name": "stdout",
     "output_type": "stream",
     "text": [
      "----*----\n",
      "AUROC: 0.841 CI: 0.840-0.841\n"
     ]
    }
   ],
   "source": [
    "# perform boot strapping for errors\n",
    "X, Xt, y, yt = create_training_test(df, features=features)\n",
    "ncycles = 250\n",
    "scores = np.zeros(ncycles)\n",
    "yt_preds_list = []\n",
    "for i in range(ncycles):\n",
    "    bs_idx = np.random.randint(low=0, high=len(X), size=len(X))\n",
    "    X_bs = X[bs_idx]\n",
    "    y_bs = y[bs_idx]\n",
    "    models, score = fit_model(X_bs, y_bs, cv_splitter=KFold, params=hyperparameters.best_params_)\n",
    "    yt_preds = np.zeros(len(Xt))\n",
    "    for model in models:\n",
    "        yt_preds += model.predict_proba(Xt)[:,1]/len(models)\n",
    "    scores[i] = roc_auc_score(yt, yt_preds)\n",
    "    yt_preds_list.append(yt_preds)\n",
    "confidence = utils.confidence_intervals(scores)\n",
    "print('----*----')\n",
    "print('AUROC: {0:.3f} CI: {1:.3f}-{2:.3f}'.format(np.mean(scores), confidence[0], confidence[1]))\n",
    "\n",
    "np.save('results/y_preds_xgboost.npy', yt_preds_list)"
   ]
  },
  {
   "cell_type": "markdown",
   "metadata": {},
   "source": [
    "## 3.2 Figures of merit on hold-out test set\n",
    "\n",
    "We plot the ROC curve for the model evaluated on the hold-out test set and a probabilty calibration curve, which shows that the models predicted probabilties reflect the actual chance of the event occuring."
   ]
  },
  {
   "cell_type": "code",
   "execution_count": 37,
   "metadata": {},
   "outputs": [],
   "source": [
    "features = ['Patient Age at Treatment','Fresh Eggs Collected'] + infertility_columns[:5]"
   ]
  },
  {
   "cell_type": "code",
   "execution_count": 38,
   "metadata": {},
   "outputs": [],
   "source": [
    "X, Xt, y, yt = create_training_test(df, features=features, seed=123) \n",
    "\n",
    "## Fit example, single model with no bootstrapping\n",
    "\n",
    "models, score = fit_model(X, y, cv_splitter=KFold, params=hyperparameters.best_params_)"
   ]
  },
  {
   "cell_type": "code",
   "execution_count": 39,
   "metadata": {},
   "outputs": [],
   "source": [
    "# predicton the hold-out test-set\n",
    "yt_preds = np.zeros(len(Xt))\n",
    "for clf in models:\n",
    "    yt_preds += clf.predict_proba(Xt)[:,1]/len(models)"
   ]
  },
  {
   "cell_type": "code",
   "execution_count": 40,
   "metadata": {},
   "outputs": [],
   "source": [
    "# create prediction calibration data for figure\n",
    "\n",
    "pred_df = pd.DataFrame({'preds': yt_preds*100, 'target':yt*100})\n",
    "pred_df['binned_preds'] = pd.cut(pred_df['preds'], bins=np.arange(0, 105, 5))\n",
    "grouping = pred_df.groupby('binned_preds').aggregate(['mean', 'std', 'count'])['target']\n",
    "grouping['mean_error'] = grouping['std']/ grouping['count']**0.5\n",
    "\n",
    "# create ROC curve\n",
    "bs_preds = np.load('results/y_preds_xgboost.npy')\n",
    "fpr, tpr, _ = roc_curve(yt, np.mean(bs_preds, axis=0))\n",
    "\n",
    "# calculate bootstrap confidence intervals\n",
    "scores = np.zeros(250)\n",
    "for i in range(250):\n",
    "    scores[i] = roc_auc_score(yt, bs_preds[i])\n",
    "ci = utils.confidence_intervals(scores)"
   ]
  },
  {
   "cell_type": "code",
   "execution_count": 45,
   "metadata": {},
   "outputs": [
    {
     "data": {
      "image/png": "[encoded data removed]",
      "text/plain": [
       "<Figure size 360x162 with 2 Axes>"
      ]
     },
     "metadata": {
      "needs_background": "light"
     },
     "output_type": "display_data"
    }
   ],
   "source": [
    "fig, axs = plt.subplots(ncols=2)\n",
    "\n",
    "\n",
    "# plot ROC curve\n",
    "axs[0].plot(fpr, tpr, color=colors[-2], label=f'AUC: {np.mean(scores):.3f} ({ci[0]:.3f}-{ci[1]:.3f})')\n",
    "axs[0].legend(fontsize=8, handlelength=0.5)\n",
    "axs[0].set_ylabel('True Postive Rate')\n",
    "axs[0].set_xlabel('False Positive Rate')\n",
    "\n",
    "# plot calibration figure\n",
    "axs[1].errorbar(x=[interval.mid for interval in grouping.index], \n",
    "                y=grouping['mean'], \n",
    "                yerr=grouping['mean_error'],\n",
    "                color=colors[-2],\n",
    "                lw=0.5,\n",
    "                elinewidth=1,\n",
    "                capsize=2,\n",
    "                marker='.',\n",
    "                markersize=5)\n",
    "axs[1].set_xlabel('Predicted probabilty (%)')\n",
    "axs[1].set_ylabel('Actual occurrence rate (%)')\n",
    "\n",
    "# tidy up the plots\n",
    "for ax, lim in zip(axs, [(0,1),(0,100)]):\n",
    "    plt.setp(ax.get_yticklabels(), fontsize=9)\n",
    "    plt.setp(ax.get_xticklabels(), fontsize=9)\n",
    "    utils.remove_axes(ax)\n",
    "    ax.set_xlim(*lim)\n",
    "    ax.set_ylim(*lim)\n",
    "axs[1].set_xticks([0,50,100])\n",
    "axs[1].set_yticks([0,50,100])\n",
    "    \n",
    "axs[0].text(0.025, 0.9, 'a)', fontsize=11)\n",
    "axs[1].text(2.5, 90, 'b)', fontsize=11)\n",
    "\n",
    "fig.set_size_inches(5, 2.25)\n",
    "plt.tight_layout()\n",
    "plt.savefig('images/HFEA_model_evaluation.png', dpi=300, bbox_inches='tight')"
   ]
  }
 ],
 "metadata": {
  "kernelspec": {
   "display_name": "Python 3",
   "language": "python",
   "name": "python3"
  },
  "language_info": {
   "codemirror_mode": {
    "name": "ipython",
    "version": 3
   },
   "file_extension": ".py",
   "mimetype": "text/x-python",
   "name": "python",
   "nbconvert_exporter": "python",
   "pygments_lexer": "ipython3",
   "version": "3.7.2"
  }
 },
 "nbformat": 4,
 "nbformat_minor": 4
}
