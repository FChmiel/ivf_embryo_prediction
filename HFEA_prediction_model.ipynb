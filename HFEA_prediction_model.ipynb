{
 "cells": [
  {
   "cell_type": "code",
   "execution_count": 72,
   "metadata": {},
   "outputs": [],
   "source": [
    "import pandas as pd\n",
    "import numpy as np\n",
    "\n",
    "# plotting libraries\n",
    "import matplotlib.pyplot as plt\n",
    "import seaborn as sns\n",
    "sns.set_palette(sns.cubehelix_palette(6, start=.5, rot=-.75))\n",
    "\n",
    "from sklearn.model_selection import (train_test_split, StratifiedKFold, KFold, GridSearchCV)\n",
    "\n",
    "from sklearn.metrics import (roc_auc_score, roc_curve)\n",
    "\n",
    "# machine learning libraries\n",
    "from xgboost import XGBClassifier\n",
    "\n",
    "import utils\n",
    "from preprocessing import (format_columns, \n",
    "                           create_cohort, \n",
    "                           create_target, \n",
    "                           drop_anomalous_cycles)\n",
    "\n",
    "from modelling import (create_training_test,\n",
    "                       fit_model,\n",
    "                       tune_model)\n",
    "\n",
    "colors = sns.color_palette()\n",
    "\n",
    "age_groups = ['18-34', '35-37', '38-39', '40-42', '43-44', '45-50']"
   ]
  },
  {
   "cell_type": "markdown",
   "metadata": {},
   "source": [
    "# Notebook introduction\n",
    "\n",
    "\n",
    "To write."
   ]
  },
  {
   "cell_type": "markdown",
   "metadata": {},
   "source": [
    "# 0. Load the data and create the cohort"
   ]
  },
  {
   "cell_type": "code",
   "execution_count": 2,
   "metadata": {},
   "outputs": [
    {
     "name": "stderr",
     "output_type": "stream",
     "text": [
      "c:\\users\\fpc\\envs\\ivf\\lib\\site-packages\\IPython\\core\\interactiveshell.py:3051: DtypeWarning: Columns (6,7,29,31,32,43,48,50,51,52,53,54,77,83,89,90,91,92) have mixed types. Specify dtype option on import or set low_memory=False.\n",
      "  interactivity=interactivity, compiler=compiler, result=result)\n"
     ]
    },
    {
     "name": "stdout",
     "output_type": "stream",
     "text": [
      "(86169, 96)\n"
     ]
    }
   ],
   "source": [
    "df = pd.read_csv('data/ar-2015-2016.csv')\n",
    "\n",
    "df = (df.pipe(format_columns)\n",
    "        .pipe(create_cohort)\n",
    "        .pipe(create_target)\n",
    "        .pipe(drop_anomalous_cycles))\n",
    "\n",
    "print(df.shape)"
   ]
  },
  {
   "cell_type": "markdown",
   "metadata": {},
   "source": [
    "## 0.1 Number of patients in each class"
   ]
  },
  {
   "cell_type": "code",
   "execution_count": 476,
   "metadata": {},
   "outputs": [
    {
     "data": {
      "text/plain": [
       "target\n",
       "0.0    37577\n",
       "1.0    49875\n",
       "Name: Patient Age at Treatment, dtype: int64"
      ]
     },
     "execution_count": 476,
     "metadata": {},
     "output_type": "execute_result"
    }
   ],
   "source": [
    "df.groupby('target')['Patient Age at Treatment'].count()"
   ]
  },
  {
   "cell_type": "markdown",
   "metadata": {},
   "source": [
    "## 0.2 Number of patients in each age group"
   ]
  },
  {
   "cell_type": "code",
   "execution_count": 477,
   "metadata": {},
   "outputs": [
    {
     "data": {
      "text/plain": [
       "Patient Age at Treatment\n",
       "18-34    37826\n",
       "35-37    20154\n",
       "38-39    12989\n",
       "40-42    12242\n",
       "43-44     3266\n",
       "45-50      975\n",
       "Name: target, dtype: int64"
      ]
     },
     "execution_count": 477,
     "metadata": {},
     "output_type": "execute_result"
    }
   ],
   "source": [
    "df.groupby('Patient Age at Treatment')['target'].count()"
   ]
  },
  {
   "cell_type": "markdown",
   "metadata": {},
   "source": [
    "# 1 Initial data analysis"
   ]
  },
  {
   "cell_type": "markdown",
   "metadata": {},
   "source": [
    "## 1.1 Number of eggs collected by age group\n",
    "\n",
    "Outliers are not shown since the distributions have such long tails."
   ]
  },
  {
   "cell_type": "code",
   "execution_count": 389,
   "metadata": {
    "scrolled": false
   },
   "outputs": [
    {
     "data": {
      "image/png": "[encoded data removed]",
      "text/plain": [
       "<Figure size 432x288 with 1 Axes>"
      ]
     },
     "metadata": {
      "needs_background": "light"
     },
     "output_type": "display_data"
    }
   ],
   "source": [
    "fig, ax = plt.subplots()\n",
    "sns.boxplot(x='Patient Age at Treatment', y='Fresh Eggs Collected', ax=ax, data=df,\n",
    "           order=age_groups, showfliers=False)\n",
    "\n",
    "utils.remove_axes(ax)\n",
    "plt.savefig('images/eggs_collected_by_age.png', dpi=300, bbox_inches='tight')"
   ]
  },
  {
   "cell_type": "markdown",
   "metadata": {},
   "source": [
    "## 1.2 Proportion of patients with suitable embryos by Number eggs collected\n",
    "\n",
    "Non-linear relation between number of embryos suitable for D5 transfer or freezing and number of eggs collected. Overall a very strong relation. \n",
    "\n",
    "Panel b, highlights that age is an additional factor (older patients have a reduced chance of the cycle yielding a suitable embryo, even if they have the same number of eggs as a younger person)."
   ]
  },
  {
   "cell_type": "code",
   "execution_count": 73,
   "metadata": {},
   "outputs": [
    {
     "ename": "AttributeError",
     "evalue": "module 'utils' has no attribute 'calculate_proportion_error'",
     "output_type": "error",
     "traceback": [
      "\u001b[1;31m-----------------------------------------------------------------------\u001b[0m",
      "\u001b[1;31mAttributeError\u001b[0m                        Traceback (most recent call last)",
      "\u001b[1;32m<ipython-input-73-712ca4f0af53>\u001b[0m in \u001b[0;36m<module>\u001b[1;34m\u001b[0m\n\u001b[0;32m      4\u001b[0m \u001b[1;31m# plot for all patients\u001b[0m\u001b[1;33m\u001b[0m\u001b[1;33m\u001b[0m\u001b[1;33m\u001b[0m\u001b[0m\n\u001b[0;32m      5\u001b[0m \u001b[0megg_outcome\u001b[0m \u001b[1;33m=\u001b[0m \u001b[0mdf\u001b[0m\u001b[1;33m.\u001b[0m\u001b[0mgroupby\u001b[0m\u001b[1;33m(\u001b[0m\u001b[1;34m'Fresh Eggs Collected'\u001b[0m\u001b[1;33m)\u001b[0m\u001b[1;33m[\u001b[0m\u001b[1;34m'target'\u001b[0m\u001b[1;33m]\u001b[0m\u001b[1;33m.\u001b[0m\u001b[0magg\u001b[0m\u001b[1;33m(\u001b[0m\u001b[1;33m[\u001b[0m\u001b[1;34m'mean'\u001b[0m\u001b[1;33m,\u001b[0m\u001b[1;34m'count'\u001b[0m\u001b[1;33m]\u001b[0m\u001b[1;33m)\u001b[0m\u001b[1;33m\u001b[0m\u001b[1;33m\u001b[0m\u001b[0m\n\u001b[1;32m----> 6\u001b[1;33m \u001b[0mmean_error\u001b[0m \u001b[1;33m=\u001b[0m \u001b[0mutils\u001b[0m\u001b[1;33m.\u001b[0m\u001b[0mcalculate_proportion_error\u001b[0m\u001b[1;33m(\u001b[0m\u001b[0megg_outcome\u001b[0m\u001b[1;33m[\u001b[0m\u001b[1;34m'mean'\u001b[0m\u001b[1;33m]\u001b[0m\u001b[1;33m.\u001b[0m\u001b[0mvalues\u001b[0m\u001b[1;33m,\u001b[0m \u001b[0megg_outcome\u001b[0m\u001b[1;33m[\u001b[0m\u001b[1;34m'count'\u001b[0m\u001b[1;33m]\u001b[0m\u001b[1;33m.\u001b[0m\u001b[0mvalues\u001b[0m\u001b[1;33m)\u001b[0m\u001b[1;33m\u001b[0m\u001b[1;33m\u001b[0m\u001b[0m\n\u001b[0m\u001b[0;32m      7\u001b[0m \u001b[1;33m\u001b[0m\u001b[0m\n\u001b[0;32m      8\u001b[0m utils.plot_line_with_confidence(x=egg_outcome.index,\n",
      "\u001b[1;31mAttributeError\u001b[0m: module 'utils' has no attribute 'calculate_proportion_error'"
     ]
    },
    {
     "data": {
      "image/png": "[encoded data removed]",
      "text/plain": [
       "<Figure size 432x288 with 2 Axes>"
      ]
     },
     "metadata": {
      "needs_background": "light"
     },
     "output_type": "display_data"
    }
   ],
   "source": [
    "fig, axs = plt.subplots(ncols=2)\n",
    "\n",
    "\n",
    "# plot for all patients\n",
    "egg_outcome = df.groupby('Fresh Eggs Collected')['target'].agg(['mean','count'])\n",
    "mean_error = utils.calculate_proportion_error(egg_outcome['mean'].values, egg_outcome['count'].values)\n",
    "\n",
    "utils.plot_line_with_confidence(x=egg_outcome.index,\n",
    "                          y=egg_outcome['mean'].values*100,\n",
    "                          err=mean_error*100,\n",
    "                          ax=axs[0], \n",
    "                          plot_params={'color':colors[-1], 'lw':1.5},\n",
    "                          fill_params={'color':colors[-2], 'alpha':0.35})\n",
    "\n",
    "# plot for segregated by age\n",
    "for age in age_groups[:-1]:\n",
    "    mask = df['Patient Age at Treatment']==age\n",
    "    egg_outcome = df[mask].groupby('Fresh Eggs Collected')['target'].agg(['mean','count'])\n",
    "    mean_error = utils.calculate_proportion_error(egg_outcome['mean'].values, egg_outcome['count'].values)\n",
    "\n",
    "    utils.plot_line_with_confidence(x=egg_outcome.index,\n",
    "                              y=egg_outcome['mean'].values*100,\n",
    "                              err=mean_error*100,\n",
    "                              ax=axs[1], \n",
    "                              plot_params={'label':age, 'lw':1.5},\n",
    "                              fill_params={'alpha':0.35})\n",
    "    \n",
    "# tidy up plots and add labels\n",
    "axs[1].legend(fontsize=9)\n",
    "plt.setp(axs[1].get_yticklabels(), visible=False)\n",
    "axs[0].set_ylabel('Treatment cycles with \\nat least one D5 embryo (%)')\n",
    "for ax in axs:\n",
    "    ax.set_xlabel('Number of eggs collected')\n",
    "fig.set_size_inches(5,2.5)\n",
    "axs[0].text(0,90,'a)')\n",
    "plt.savefig('images/cycles_with_suitable_embryos.png', dpi=300, bbox_inches='tight')"
   ]
  },
  {
   "cell_type": "markdown",
   "metadata": {},
   "source": [
    "## 1.3 Proportion of patients with suitable embryos by age group"
   ]
  },
  {
   "cell_type": "code",
   "execution_count": 8,
   "metadata": {},
   "outputs": [
    {
     "data": {
      "image/png": "[encoded data removed]",
      "text/plain": [
       "<Figure size 288x216 with 1 Axes>"
      ]
     },
     "metadata": {
      "needs_background": "light"
     },
     "output_type": "display_data"
    }
   ],
   "source": [
    "age_grouping = df.groupby('Patient Age at Treatment')['target'].agg(['mean', 'count'])\n",
    "\n",
    "\n",
    "x = age_grouping.index\n",
    "y = age_grouping['mean'].values\n",
    "c = age_grouping['count'].values\n",
    "\n",
    "errors  =  1.96 *  ((y * (1-y)) / c) **0.5\n",
    "\n",
    "# plot the figure\n",
    "\n",
    "fig, ax = plt.subplots()\n",
    "\n",
    "ax.bar(np.arange(0,len(y)), y*100, yerr=errors*100, capsize=2, color=colors)\n",
    "ax.set_ylabel('Treatment cycles with \\nat least one D5 embryo (%)')\n",
    "utils.remove_axes(ax)\n",
    "\n",
    "# set the xtick labels\n",
    "ax.set_xticklabels([''] + age_groups)\n",
    "ax.set_xlabel('Age group (years)')\n",
    "\n",
    "fig.set_size_inches(4,3)\n",
    "plt.savefig('images/cycles_with_embryos_by_age_group.png', dpi=300, bbox_inches='tight')"
   ]
  },
  {
   "cell_type": "markdown",
   "metadata": {},
   "source": [
    "## 1.4 Proportion of patients with suitable embryos by infertility diagnosis"
   ]
  },
  {
   "cell_type": "code",
   "execution_count": 399,
   "metadata": {},
   "outputs": [],
   "source": [
    "infertility_columns = [col for col in df.columns if col.startswith('Cause of Infertility')]"
   ]
  },
  {
   "cell_type": "code",
   "execution_count": 456,
   "metadata": {},
   "outputs": [
    {
     "name": "stderr",
     "output_type": "stream",
     "text": [
      "c:\\users\\fpc\\envs\\ivf\\lib\\site-packages\\numpy\\core\\fromnumeric.py:3335: RuntimeWarning: Mean of empty slice.\n",
      "  out=out, **kwargs)\n",
      "c:\\users\\fpc\\envs\\ivf\\lib\\site-packages\\numpy\\core\\_methods.py:161: RuntimeWarning: invalid value encountered in double_scalars\n",
      "  ret = ret.dtype.type(ret / rcount)\n"
     ]
    },
    {
     "data": {
      "image/png": "[encoded data removed]",
      "text/plain": [
       "<Figure size 288x216 with 1 Axes>"
      ]
     },
     "metadata": {
      "needs_background": "light"
     },
     "output_type": "display_data"
    }
   ],
   "source": [
    "means = []\n",
    "errors = []\n",
    "\n",
    "age='18-34'\n",
    "\n",
    "for col in infertility_columns:\n",
    "    mask = (df[col]==1) & (df['Patient Age at Treatment']==age)\n",
    "    infertility_target = df.loc[mask, 'target'].values\n",
    "    mean_embryos = np.mean(infertility_target)\n",
    "    count_embryos = len(infertility_target)\n",
    "    error = 1.96 *  ((mean_embryos * (1-mean_embryos)) / count_embryos) **0.5\n",
    "    means.append(mean_embryos)\n",
    "    errors.append(error)\n",
    "    \n",
    "# make the figure\n",
    "xlabels = [col.replace('Cause of Infertility - ', '') for col in infertility_columns]\n",
    "\n",
    "\n",
    "fig, ax = plt.subplots()\n",
    "ax.bar(xlabels[:4], np.array(means[:4])*100, yerr=np.array(errors[:4])*100, capsize=2, color=colors[:4])\n",
    "utils.remove_axes(ax)\n",
    "plt.setp(ax.get_xticklabels(), rotation=90)\n",
    "ax.set_title('Infertility diagnosis : {} years'.format(age), fontsize=11)\n",
    "ax.set_ylabel('Cycles with suitable embryos (%)')\n",
    "fig.set_size_inches(4,3)\n",
    "\n",
    "plt.savefig('images/cycles_with_embryos_by_infertility_diagnosis_{}.png'.format(age), dpi=300, bbox_inches='tight')"
   ]
  },
  {
   "cell_type": "markdown",
   "metadata": {},
   "source": [
    "## 1.5 By Type of treatment"
   ]
  },
  {
   "cell_type": "code",
   "execution_count": 498,
   "metadata": {},
   "outputs": [
    {
     "data": {
      "image/png": "[encoded data removed]",
      "text/plain": [
       "<Figure size 288x216 with 1 Axes>"
      ]
     },
     "metadata": {
      "needs_background": "light"
     },
     "output_type": "display_data"
    }
   ],
   "source": [
    "treatment_types = df.groupby('Specific treatment type')['target'].agg(['mean','count'])\n",
    "\n",
    "x = treatment_types.index\n",
    "y = treatment_types['mean'].values\n",
    "c = treatment_types['count'].values\n",
    "\n",
    "errors  =  1.96 *  ((y * (1-y)) / c) **0.5\n",
    "\n",
    "# plot the figure\n",
    "\n",
    "fig, ax = plt.subplots()\n",
    "\n",
    "ax.bar(x, y*100, yerr=errors*100, color=colors[-4], capsize=2)\n",
    "ax.set_ylabel('Cycles with suitable embryos (%)')\n",
    "utils.remove_axes(ax)\n",
    "\n",
    "fig.set_size_inches(4,3)\n",
    "plt.savefig('images/cycles_with_embryos_by_type_of_treatment.png', dpi=300, bbox_inches='tight')"
   ]
  },
  {
   "cell_type": "markdown",
   "metadata": {},
   "source": [
    "# 2.0 Modelling\n"
   ]
  },
  {
   "cell_type": "code",
   "execution_count": 633,
   "metadata": {},
   "outputs": [],
   "source": [
    "df = encode_columns(df)"
   ]
  },
  {
   "cell_type": "code",
   "execution_count": 634,
   "metadata": {},
   "outputs": [],
   "source": [
    "X, Xt, y, yt = create_training_test(df)"
   ]
  },
  {
   "cell_type": "markdown",
   "metadata": {},
   "source": [
    "## 2.1 Model 1\n",
    "\n",
    "Uses only one features\n",
    "    - Patient Age"
   ]
  },
  {
   "cell_type": "code",
   "execution_count": 624,
   "metadata": {},
   "outputs": [],
   "source": [
    "infertility_columns = [col for col in df.columns if col.startswith('Cause of Infertility')]\n",
    "features = ['Patient Age at Treatment','Fresh Eggs Collected', 'Specific treatment type',infertility_columns[:4]]"
   ]
  },
  {
   "cell_type": "code",
   "execution_count": 638,
   "metadata": {},
   "outputs": [
    {
     "name": "stdout",
     "output_type": "stream",
     "text": [
      "----*----\n",
      "Patient Age at Treatment\n",
      "AUROC: 0.635 CI: 0.631-0.639\n",
      "----*----\n",
      "Fresh Eggs Collected\n",
      "AUROC: 0.838 CI: 0.835-0.841\n",
      "----*----\n",
      "Specific treatment type\n",
      "AUROC: 0.533 CI: 0.530-0.536\n",
      "----*----\n",
      "['Cause of Infertility - Ovulatory Disorder', 'Cause of Infertility - Male Factor', 'Cause of Infertility - Patient Unexplained', 'Cause of Infertility - Endometriosis']\n",
      "AUROC: 0.549 CI: 0.545-0.552\n"
     ]
    }
   ],
   "source": [
    "# perform boot strapping for errors \n",
    "for feature in features:\n",
    "    X, Xt, y, yt = create_training_test(df, features=feature)\n",
    "    ncycles = 100\n",
    "    scores = np.zeros(ncycles)\n",
    "    for i in range(ncycles):\n",
    "        bs_idx = np.random.randint(low=0, high=len(X), size=len(X))\n",
    "        X_bs = X[bs_idx]\n",
    "        y_bs = y[bs_idx]\n",
    "        # if only one feature add additional dimension\n",
    "        try:\n",
    "            X_bs.shape[1]\n",
    "        except:\n",
    "            X_bs = X_bs.reshape((-1,1))\n",
    "            Xt = Xt.reshape((-1,1))\n",
    "        models, score = fit_model(X_bs, y_bs, cv_splitter=KFold)\n",
    "        scores[i] = score\n",
    "    confidence = utils.confidence_intervals(scores)\n",
    "    print('----*----')\n",
    "    print(feature)\n",
    "    print('AUROC: {0:.3f} CI: {1:.3f}-{2:.3f}'.format(np.mean(scores), confidence[0], confidence[1]))"
   ]
  },
  {
   "cell_type": "markdown",
   "metadata": {},
   "source": [
    "### 2.1.1 Model 1.1\n",
    "\n",
    "Age and number of eggs\n"
   ]
  },
  {
   "cell_type": "code",
   "execution_count": 690,
   "metadata": {},
   "outputs": [],
   "source": [
    "features = ['Patient Age at Treatment','Fresh Eggs Collected']"
   ]
  },
  {
   "cell_type": "code",
   "execution_count": 697,
   "metadata": {},
   "outputs": [
    {
     "name": "stdout",
     "output_type": "stream",
     "text": [
      "----*----\n",
      "AUROC: 0.843 CI: 0.840-0.846\n"
     ]
    }
   ],
   "source": [
    "# perform boot strapping for errors\n",
    "X, Xt, y, yt = create_training_test(df, features=features)\n",
    "ncycles = 100\n",
    "scores = np.zeros(ncycles)\n",
    "for i in range(ncycles):\n",
    "    bs_idx = np.random.randint(low=0, high=len(X), size=len(X))\n",
    "    X_bs = X[bs_idx]\n",
    "    y_bs = y[bs_idx]\n",
    "    models, score = fit_model(X_bs, y_bs, cv_splitter=KFold)\n",
    "    scores[i] = score\n",
    "confidence = utils.confidence_intervals(scores)\n",
    "print('----*----')\n",
    "print('AUROC: {0:.3f} CI: {1:.3f}-{2:.3f}'.format(np.mean(scores), confidence[0], confidence[1]))"
   ]
  },
  {
   "cell_type": "markdown",
   "metadata": {},
   "source": [
    "### 2.1.2  Model 1.2"
   ]
  },
  {
   "cell_type": "code",
   "execution_count": 641,
   "metadata": {},
   "outputs": [],
   "source": [
    "features = ['Patient Age at Treatment','Fresh Eggs Collected', 'Specific treatment type']"
   ]
  },
  {
   "cell_type": "code",
   "execution_count": 642,
   "metadata": {},
   "outputs": [
    {
     "name": "stdout",
     "output_type": "stream",
     "text": [
      "----*----\n",
      "AUROC: 0.844 CI: 0.842-0.847\n"
     ]
    }
   ],
   "source": [
    "# perform boot strapping for errors\n",
    "X, Xt, y, yt = create_training_test(df, features=features)\n",
    "ncycles = 100\n",
    "scores = np.zeros(ncycles)\n",
    "for i in range(ncycles):\n",
    "    bs_idx = np.random.randint(low=0, high=len(X), size=len(X))\n",
    "    X_bs = X[bs_idx]\n",
    "    y_bs = y[bs_idx]\n",
    "    models, score = fit_model(X_bs, y_bs, cv_splitter=KFold)\n",
    "    scores[i] = score\n",
    "confidence = utils.confidence_intervals(scores)\n",
    "print('----*----')\n",
    "print('AUROC: {0:.3f} CI: {1:.3f}-{2:.3f}'.format(np.mean(scores), confidence[0], confidence[1]))"
   ]
  },
  {
   "cell_type": "markdown",
   "metadata": {},
   "source": [
    "### 2.1.3 Model 1.3"
   ]
  },
  {
   "cell_type": "code",
   "execution_count": 643,
   "metadata": {},
   "outputs": [],
   "source": [
    "features = ['Patient Age at Treatment','Fresh Eggs Collected'] + infertility_columns[:4]"
   ]
  },
  {
   "cell_type": "code",
   "execution_count": 644,
   "metadata": {},
   "outputs": [
    {
     "name": "stdout",
     "output_type": "stream",
     "text": [
      "----*----\n",
      "AUROC: 0.845 CI: 0.842-0.848\n"
     ]
    }
   ],
   "source": [
    "# perform boot strapping for errors\n",
    "X, Xt, y, yt = create_training_test(df, features=features)\n",
    "ncycles = 100\n",
    "scores = np.zeros(ncycles)\n",
    "for i in range(ncycles):\n",
    "    bs_idx = np.random.randint(low=0, high=len(X), size=len(X))\n",
    "    X_bs = X[bs_idx]\n",
    "    y_bs = y[bs_idx]\n",
    "    models, score = fit_model(X_bs, y_bs, cv_splitter=KFold)\n",
    "    scores[i] = score\n",
    "confidence = utils.confidence_intervals(scores)\n",
    "print('----*----')\n",
    "print('AUROC: {0:.3f} CI: {1:.3f}-{2:.3f}'.format(np.mean(scores), confidence[0], confidence[1]))"
   ]
  },
  {
   "cell_type": "markdown",
   "metadata": {},
   "source": [
    "### 2.14 Model 1.4"
   ]
  },
  {
   "cell_type": "code",
   "execution_count": 645,
   "metadata": {},
   "outputs": [],
   "source": [
    "features = ['Patient Age at Treatment','Fresh Eggs Collected', 'Specific treatment type'] + infertility_columns[:4]"
   ]
  },
  {
   "cell_type": "code",
   "execution_count": 646,
   "metadata": {},
   "outputs": [
    {
     "name": "stdout",
     "output_type": "stream",
     "text": [
      "----*----\n",
      "AUROC: 0.845 CI: 0.842-0.848\n"
     ]
    }
   ],
   "source": [
    "# perform boot strapping for errors\n",
    "X, Xt, y, yt = create_training_test(df, features=features)\n",
    "ncycles = 100\n",
    "scores = np.zeros(ncycles)\n",
    "for i in range(ncycles):\n",
    "    bs_idx = np.random.randint(low=0, high=len(X), size=len(X))\n",
    "    X_bs = X[bs_idx]\n",
    "    y_bs = y[bs_idx]\n",
    "    models, score = fit_model(X_bs, y_bs, cv_splitter=KFold)\n",
    "    scores[i] = score\n",
    "confidence = utils.confidence_intervals(scores)\n",
    "print('----*----')\n",
    "print('AUROC: {0:.3f} CI: {1:.3f}-{2:.3f}'.format(np.mean(scores), confidence[0], confidence[1]))"
   ]
  },
  {
   "cell_type": "markdown",
   "metadata": {},
   "source": [
    "# 3. Hyperparameter tuning and final model evaluation"
   ]
  },
  {
   "cell_type": "code",
   "execution_count": 649,
   "metadata": {},
   "outputs": [],
   "source": [
    "features = ['Patient Age at Treatment','Fresh Eggs Collected'] + infertility_columns[:4]"
   ]
  },
  {
   "cell_type": "code",
   "execution_count": 651,
   "metadata": {},
   "outputs": [],
   "source": [
    "param_grid =  {'max_depth':[2,3,4],'subsample':[1,0.9, 0.8], 'gamma':[1,5,10,25], 'learning_rate':[0.05,0.025,0.1], 'n_estimators':[75,100, 125]}"
   ]
  },
  {
   "cell_type": "code",
   "execution_count": 655,
   "metadata": {},
   "outputs": [],
   "source": [
    "# perform boot strapping for errors\n",
    "X, Xt, y, yt = create_training_test(df, features=features)\n",
    "\n",
    "hyperparameters = tune_model(X, y, param_grid=param_grid)"
   ]
  },
  {
   "cell_type": "code",
   "execution_count": 657,
   "metadata": {},
   "outputs": [
    {
     "data": {
      "text/plain": [
       "{'gamma': 1,\n",
       " 'learning_rate': 0.1,\n",
       " 'max_depth': 3,\n",
       " 'n_estimators': 100,\n",
       " 'subsample': 0.8}"
      ]
     },
     "execution_count": 657,
     "metadata": {},
     "output_type": "execute_result"
    }
   ],
   "source": [
    "hyperparameters.best_params_"
   ]
  },
  {
   "cell_type": "code",
   "execution_count": 661,
   "metadata": {},
   "outputs": [],
   "source": [
    "np.save('results/y_true_xgboost.npy', yt)"
   ]
  },
  {
   "cell_type": "markdown",
   "metadata": {},
   "source": [
    "# 3.1 Train the final model\n",
    "\n",
    "- Bootstrapping is performed and the model evaluated on the hold-out test\n",
    "- Best hyperparameters on the validation set is used."
   ]
  },
  {
   "cell_type": "code",
   "execution_count": 668,
   "metadata": {},
   "outputs": [
    {
     "name": "stdout",
     "output_type": "stream",
     "text": [
      "----*----\n",
      "AUROC: 0.841 CI: 0.840-0.841\n"
     ]
    }
   ],
   "source": [
    "# perform boot strapping for errors\n",
    "X, Xt, y, yt = create_training_test(df, features=features)\n",
    "ncycles = 250\n",
    "scores = np.zeros(ncycles)\n",
    "yt_preds_list = []\n",
    "for i in range(ncycles):\n",
    "    bs_idx = np.random.randint(low=0, high=len(X), size=len(X))\n",
    "    X_bs = X[bs_idx]\n",
    "    y_bs = y[bs_idx]\n",
    "    models, score = fit_model(X_bs, y_bs, cv_splitter=KFold, params=hyperparameters.best_params_)\n",
    "    yt_preds = np.zeros(len(Xt))\n",
    "    for model in models:\n",
    "        yt_preds += model.predict_proba(Xt)[:,1]/len(models)\n",
    "    scores[i] = roc_auc_score(yt, yt_preds)\n",
    "    yt_preds_list.append(yt_preds)\n",
    "confidence = utils.confidence_intervals(scores)\n",
    "print('----*----')\n",
    "print('AUROC: {0:.3f} CI: {1:.3f}-{2:.3f}'.format(np.mean(scores), confidence[0], confidence[1]))\n",
    "\n",
    "np.save('results/y_preds_xgboost.npy', yt_preds_list)"
   ]
  },
  {
   "cell_type": "markdown",
   "metadata": {},
   "source": [
    "## 3.2 Figures of merit on hold-out test set"
   ]
  },
  {
   "cell_type": "code",
   "execution_count": 674,
   "metadata": {},
   "outputs": [],
   "source": [
    "bs_preds = np.load('results/y_preds_xgboost.npy')"
   ]
  },
  {
   "cell_type": "code",
   "execution_count": 676,
   "metadata": {},
   "outputs": [],
   "source": [
    "mean_preds = np.mean(bs_preds, axis=0)\n",
    "fpr, tpr, _ = roc_curve(yt, mean_preds)"
   ]
  },
  {
   "cell_type": "code",
   "execution_count": 682,
   "metadata": {},
   "outputs": [
    {
     "data": {
      "image/png": "[encoded data removed]",
      "text/plain": [
       "<Figure size 288x216 with 1 Axes>"
      ]
     },
     "metadata": {
      "needs_background": "light"
     },
     "output_type": "display_data"
    }
   ],
   "source": [
    "fig, ax = plt.subplots()\n",
    "ax.plot(fpr, tpr, color=colors[-2])\n",
    "ax.set_xlim(0, 1)\n",
    "ax.set_ylim(0, 1)\n",
    "\n",
    "ax.set_xlabel('FPR')\n",
    "ax.set_ylabel('TPR')\n",
    "\n",
    "fig.set_size_inches(4,3)\n",
    "plt.savefig('images/HFEA_model_evaluation_ROC.png', dpi=300, bbox_inches='tight')"
   ]
  },
  {
   "cell_type": "code",
   "execution_count": 689,
   "metadata": {},
   "outputs": [
    {
     "data": {
      "image/png": "[encoded data removed]",
      "text/plain": [
       "<Figure size 288x216 with 1 Axes>"
      ]
     },
     "metadata": {
      "needs_background": "light"
     },
     "output_type": "display_data"
    }
   ],
   "source": [
    "fig, ax = plt.subplots()\n",
    "\n",
    "ax.hist(mean_preds, color=colors[-2])\n",
    "ax.set_xlabel('Predicted probabilty')\n",
    "ax.set_ylabel('Number of cycles')\n",
    "ax.set_xlim(0,1)\n",
    "utils.remove_axes(ax)\n",
    "\n",
    "fig.set_size_inches(4,3)\n",
    "plt.savefig('images/HFEA_model_predictions.png', dpi=300, bbox_inches='tight')"
   ]
  },
  {
   "cell_type": "code",
   "execution_count": null,
   "metadata": {},
   "outputs": [],
   "source": []
  }
 ],
 "metadata": {
  "kernelspec": {
   "display_name": "Python 3",
   "language": "python",
   "name": "python3"
  },
  "language_info": {
   "codemirror_mode": {
    "name": "ipython",
    "version": 3
   },
   "file_extension": ".py",
   "mimetype": "text/x-python",
   "name": "python",
   "nbconvert_exporter": "python",
   "pygments_lexer": "ipython3",
   "version": "3.7.2"
  }
 },
 "nbformat": 4,
 "nbformat_minor": 4
}
