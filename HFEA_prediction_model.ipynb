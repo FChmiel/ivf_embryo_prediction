{
 "cells": [
  {
   "cell_type": "code",
   "execution_count": 1,
   "metadata": {},
   "outputs": [],
   "source": [
    "import pandas as pd\n",
    "import numpy as np\n",
    "\n",
    "# plotting libraries\n",
    "import matplotlib.pyplot as plt\n",
    "import seaborn as sns\n",
    "sns.set_palette(sns.cubehelix_palette(6, start=.5, rot=-.75))\n",
    "\n",
    "from sklearn.model_selection import (train_test_split, StratifiedKFold, KFold, GridSearchCV)\n",
    "\n",
    "from sklearn.metrics import (roc_auc_score, roc_curve)\n",
    "\n",
    "# machine learning libraries\n",
    "from xgboost import XGBClassifier\n",
    "\n",
    "import utils"
   ]
  },
  {
   "cell_type": "code",
   "execution_count": 2,
   "metadata": {},
   "outputs": [],
   "source": [
    "colors = sns.color_palette()"
   ]
  },
  {
   "cell_type": "markdown",
   "metadata": {},
   "source": [
    "# Functions used throughout"
   ]
  },
  {
   "cell_type": "code",
   "execution_count": 3,
   "metadata": {},
   "outputs": [],
   "source": [
    "def create_cohort(df):\n",
    "    \"\"\"\n",
    "    Creates the patient cohort for modelling. \n",
    "    \n",
    "    There is the following exclusion criteria:\n",
    "    \n",
    "    Parameters:\n",
    "    -----------\n",
    "    df : pd.DataFrame, \n",
    "        The HFEA anonymised register data.\n",
    "        \n",
    "    Returns:\n",
    "    --------\n",
    "    df : pd.DataFrame, \n",
    "        The HFEA anonymised register data, edited in-place with\n",
    "        excluded patients removed.\n",
    "    \"\"\"\n",
    "    # exclude DI cycles\n",
    "    DI_cycles = df['Type of treatment - IVF or DI']=='DI'\n",
    "    df = df[~DI_cycles]\n",
    "    \n",
    "    # exclude FET cycles (keep only fresh)\n",
    "    fresh_cycles = df['Fresh Cycle']==1\n",
    "    df = df[fresh_cycles]\n",
    "    \n",
    "    # exclude donated embryo cycles\n",
    "    donated_cycles = df['Donated embryo']==1\n",
    "    df = df[~donated_cycles]\n",
    "    \n",
    "    # exclude cycles for storing embryos / donation (keep only treatment now)\n",
    "    treatment_cycles = df['Main Reason for Producing Embroys Storing Eggs']=='Treatment Now'\n",
    "    df = df[treatment_cycles]\n",
    "    \n",
    "    # exclude surrogate cycles\n",
    "    surrogate_cycles = df['Patient acting as Surrogate']==1\n",
    "    df = df[~surrogate_cycles]\n",
    "    \n",
    "    # exclude PGD\n",
    "    PGD_cycles = df['PGD']==1\n",
    "    df = df[~PGD_cycles]\n",
    "    \n",
    "    # exclude PGS\n",
    "    PGS_cycles = df['PGS']==1\n",
    "    df = df[~PGS_cycles]\n",
    "    \n",
    "    # exclude cucles with eggs from non-patient source\n",
    "    patient_cycles = df['Egg Source']=='Patient'\n",
    "    df = df[patient_cycles]\n",
    "    \n",
    "    # exclude frozen cycles \n",
    "    frozen_cycles = df['Frozen Cycle']==1\n",
    "    df = df[~frozen_cycles]\n",
    "    \n",
    "    # exclude eggs thawed in cycle\n",
    "    eggs_thawed_cycles = df['Eggs Thawed']>0\n",
    "    df = df[~eggs_thawed_cycles]\n",
    "    \n",
    "    # exclude embryos thawed in cycle\n",
    "    embryos_thawed_cycles = df['Total Embryos Thawed']>0\n",
    "    df = df[~embryos_thawed_cycles]\n",
    "    \n",
    "    return df\n",
    "\n",
    "def format_columns(df,\n",
    "                   str_cols=['Main Reason for Producing Embroys Storing Eggs'],\n",
    "                   num_cols=['Fresh Eggs Stored', 'Fresh Eggs Collected',\n",
    "                             'Total Embryos Thawed', 'Total Embryos Created',\n",
    "                             'Embryos Stored For Use By Patient']):\n",
    "    \"\"\"\n",
    "    Performs some data cleaning. Including stripping white space from some str columns\n",
    "    and converting '> 50' to 50 in numerical columns (this will have some tiny effect on statistics)!\n",
    "    \n",
    "    Parameters:\n",
    "    -----------\n",
    "    df : pd.DataFrame, \n",
    "        The HFEA IVF cycles database.\n",
    "        \n",
    "    str_cols : List[str],\n",
    "        A list of the str columns to strip leading/trailing whitespace from.\n",
    "        \n",
    "    num_col : List[str],\n",
    "        A list of the numerical columns to convert '> 50' to 50 within.\n",
    "        \n",
    "    Returns:\n",
    "    --------\n",
    "    df : pd.DataFrame, \n",
    "        The HFEA database edited in-place.\n",
    "    \"\"\"\n",
    "    \n",
    "    # strip whitespace from string columns\n",
    "    for col in str_cols:\n",
    "        df[col] = df[col].str.strip()\n",
    "        \n",
    "    # convert >50 to 50.\n",
    "    for col in num_cols:\n",
    "        try:\n",
    "            mask = df[col].str.contains('>')==True\n",
    "            df.loc[mask, col] = 50\n",
    "            df[col] = df[col].astype(float)\n",
    "        except:\n",
    "            pass\n",
    "            # already a numerical column\n",
    "        \n",
    "    # format patient age = 18-34 to be consitent with others\n",
    "    mask = df['Patient Age at Treatment']=='18 - 34'\n",
    "    df.loc[mask, 'Patient Age at Treatment'] = '18-34'\n",
    "    return df\n",
    "\n",
    "def create_target(df):\n",
    "    \"\"\"\n",
    "    Creates the target for the HFEA database. The target is whether the\n",
    "    patient had a day 5 embryo transfer or an embryo frozen.\n",
    "    \n",
    "    Parameters:\n",
    "    ---------\n",
    "    df : pd.DataFrame, \n",
    "        The HFEA IVF cycles database.\n",
    "        \n",
    "    Returns:\n",
    "    --------\n",
    "    df : pd.DataFrame, \n",
    "        The HFEA IVF dataset edited in-place. \n",
    "    \"\"\"\n",
    "    \n",
    "    df['target'] = np.nan\n",
    "    \n",
    "    # create masks for generating target\n",
    "    no_embryos_stored = df['Embryos Stored For Use By Patient']==0\n",
    "    # you can just use ~ here because NaMs are treated as False\n",
    "    embryos_stored = df['Embryos Stored For Use By Patient']>0 \n",
    "    no_transfer =  df['Embryos Transfered']==0\n",
    "    early_transfer = df['Date of Embryo Transfer']<5\n",
    "    late_transfer = df['Date of Embryo Transfer']>4\n",
    "    no_embryos_created = df['Total Embryos Created']==0\n",
    "    embryos_created = df['Total Embryos Created']>0\n",
    "    \n",
    "    # create negative class\n",
    "    df.loc[early_transfer & no_embryos_stored, 'target'] = 0\n",
    "    df.loc[no_embryos_created, 'target'] = 0\n",
    "    df.loc[embryos_created & no_transfer & no_embryos_stored, 'target'] = 0\n",
    "    \n",
    "    # create positive class\n",
    "    df.loc[embryos_stored, 'target'] = 1\n",
    "    df.loc[late_transfer, 'target'] = 1\n",
    "    \n",
    "    return df\n",
    "\n",
    "def drop_anomalous_cycles(df):\n",
    "    \"\"\"\n",
    "    Removes anomalous cycles in-place. These include cycles where the Day of embryo transfer\n",
    "    equals 999.\n",
    "    \n",
    "    Parameters:\n",
    "    -----------\n",
    "    df : pd.DataFrame, \n",
    "        The HFEA IVF cycles database.\n",
    "    \n",
    "    Returns:\n",
    "    --------\n",
    "    df : pd.DataFrame, \n",
    "        The HFEA IVF dataset edited in-place. \n",
    "    \"\"\"\n",
    "    \n",
    "    # drop those with ET as 999 and no frozen embryos\n",
    "    anom_transfer = df['Date of Embryo Transfer']==999\n",
    "    no_embryos_stored = df['Embryos Stored For Use By Patient']==0\n",
    "    to_drop = anom_transfer & no_embryos_stored\n",
    "    df = df[~to_drop]\n",
    "    \n",
    "    # Drop those with LB=1 but no embryos transferred\n",
    "    no_transfer = df['Embryos Transfered']==0\n",
    "    live_birth = df['Live Birth Occurrence']==1\n",
    "    to_drop = no_transfer & live_birth\n",
    "    df = df[~to_drop]\n",
    "    \n",
    "    # Drop treatment types which are not IVF or ICSI\n",
    "    allowed_types = df['Specific treatment type'].isin(['IVF', 'ICSI'])\n",
    "    df = df[allowed_types]\n",
    "    \n",
    "    return df\n",
    "\n",
    "def clean_treatment_type(df, allowed_types=['IVF', 'ICSI']):\n",
    "    \"\"\"\n",
    "    Cleans the treatment type column by grouping all types which are neither\n",
    "    IVF or ICSI into an 'other' column.\n",
    "    \n",
    "    Parameters:\n",
    "    -----------\n",
    "    df : pd.DataFrame, \n",
    "        The HFEA IVF cycles database.\n",
    "    \n",
    "    allowed_types : List[str]\n",
    "        A list of treatment types not to be grouped.\n",
    "    \n",
    "    Returns:\n",
    "    --------\n",
    "    df : pd.DataFrame, \n",
    "        The HFEA IVF dataset edited in-place. \n",
    "    \"\"\"\n",
    "    allowed_cycles = df['Specific treatment type'].isin(allowed_types)\n",
    "    df.loc[~allowed_cycles, 'Specific treatment type'] = 'Other/Unknown'\n",
    "    return df\n",
    "\n",
    "def encode_columns(df):\n",
    "    \"\"\"\n",
    "    Encodes str columns with nomincal / ordinal encoding, defined in the functions\n",
    "    by maps.\n",
    "    \n",
    "    Parameters:\n",
    "    -----------\n",
    "    df : pd.DataFrame, \n",
    "        The HFEA IVF cycles database.\n",
    "    \n",
    "    Returns:\n",
    "    --------\n",
    "    df : pd.DataFrame, \n",
    "        The HFEA IVF dataset edited in-place. \n",
    "    \"\"\"\n",
    "    age_map = {'18-34':0, '35-37':1, '38-39':2, '40-42':3, '43-44':4, '45-50':5}\n",
    "    df['Patient Age at Treatment'] = df['Patient Age at Treatment'].map(age_map)\n",
    "    treatment_map = {'IVF':0, 'ICSI':1}\n",
    "    df['Specific treatment type'] = df['Specific treatment type'].map(treatment_map)\n",
    "    \n",
    "    return df\n"
   ]
  },
  {
   "cell_type": "markdown",
   "metadata": {},
   "source": [
    "# 0. Load the data and create the cohort"
   ]
  },
  {
   "cell_type": "code",
   "execution_count": 4,
   "metadata": {},
   "outputs": [],
   "source": [
    "filenames = ['data/ar-1991-1994.csv','data/ar-1995-1999.csv','data/ar-2000-2004.csv', 'data/ar-2005-2009.csv',\n",
    "             'data/ar-2010-2014.csv','data/ar-2015-2016.csv']"
   ]
  },
  {
   "cell_type": "code",
   "execution_count": 5,
   "metadata": {},
   "outputs": [
    {
     "name": "stderr",
     "output_type": "stream",
     "text": [
      "c:\\users\\fpc\\envs\\ivf\\lib\\site-packages\\IPython\\core\\interactiveshell.py:3051: DtypeWarning: Columns (4,29,31,32,43,48,50,51,77,83,89,90,91,92) have mixed types. Specify dtype option on import or set low_memory=False.\n",
      "  interactivity=interactivity, compiler=compiler, result=result)\n",
      "c:\\users\\fpc\\envs\\ivf\\lib\\site-packages\\IPython\\core\\interactiveshell.py:3051: DtypeWarning: Columns (29,32,43,48,50,51,52,53,55,56,83,89,90,91,92) have mixed types. Specify dtype option on import or set low_memory=False.\n",
      "  interactivity=interactivity, compiler=compiler, result=result)\n",
      "c:\\users\\fpc\\envs\\ivf\\lib\\site-packages\\IPython\\core\\interactiveshell.py:3051: DtypeWarning: Columns (6,8,29,32,43,48,50,51,53,54,83,89,90,91,92,94) have mixed types. Specify dtype option on import or set low_memory=False.\n",
      "  interactivity=interactivity, compiler=compiler, result=result)\n",
      "c:\\users\\fpc\\envs\\ivf\\lib\\site-packages\\IPython\\core\\interactiveshell.py:3051: DtypeWarning: Columns (6,7,8,9,11,29,32,43,48,50,51,52,54,83,89,90,91,92) have mixed types. Specify dtype option on import or set low_memory=False.\n",
      "  interactivity=interactivity, compiler=compiler, result=result)\n",
      "c:\\users\\fpc\\envs\\ivf\\lib\\site-packages\\IPython\\core\\interactiveshell.py:3051: DtypeWarning: Columns (6,9,29,31,32,43,48,49,50,51,53,54,59,60,77,83,89,90,91,92) have mixed types. Specify dtype option on import or set low_memory=False.\n",
      "  interactivity=interactivity, compiler=compiler, result=result)\n",
      "c:\\users\\fpc\\envs\\ivf\\lib\\site-packages\\IPython\\core\\interactiveshell.py:3051: DtypeWarning: Columns (6,7,29,31,32,43,48,50,51,52,53,54,77,83,89,90,91,92) have mixed types. Specify dtype option on import or set low_memory=False.\n",
      "  interactivity=interactivity, compiler=compiler, result=result)\n"
     ]
    }
   ],
   "source": [
    "dfs = []\n",
    "for name in filenames:\n",
    "    df =  pd.read_csv(name)\n",
    "    df = (df.pipe(format_columns)\n",
    "        .pipe(create_cohort)\n",
    "        .pipe(create_target)\n",
    "        .pipe(drop_anomalous_cycles))\n",
    "    dfs.append(df)"
   ]
  },
  {
   "cell_type": "code",
   "execution_count": 6,
   "metadata": {},
   "outputs": [],
   "source": [
    "df = pd.concat(dfs)"
   ]
  },
  {
   "cell_type": "code",
   "execution_count": 21,
   "metadata": {},
   "outputs": [
    {
     "data": {
      "image/png": "[encoded data removed]",
      "text/plain": [
       "<Figure size 432x288 with 1 Axes>"
      ]
     },
     "metadata": {
      "needs_background": "light"
     },
     "output_type": "display_data"
    }
   ],
   "source": [
    "for age in age_groups:\n",
    "    mask = df['Patient Age at Treatment']==age\n",
    "    df.loc[df['Live Birth Occurrence'].isna(),'Live Birth Occurrence'] = 0\n",
    "    lbr = df[mask].groupby('Year of Treatment')['Live Birth Occurrence'].mean()\n",
    "    plt.plot(lbr, label = age)\n",
    "plt.ylabel('Mean live birth occurence')\n",
    "plt.legend()\n",
    "ax = plt.gca()\n",
    "utils.remove_axes(ax)\n",
    "plt.savefig('images/lbr_by_age.png', dpi=300, bbox_inches='tight')"
   ]
  },
  {
   "cell_type": "code",
   "execution_count": 16,
   "metadata": {},
   "outputs": [
    {
     "data": {
      "text/html": [
       "<div>\n",
       "<style scoped>\n",
       "    .dataframe tbody tr th:only-of-type {\n",
       "        vertical-align: middle;\n",
       "    }\n",
       "\n",
       "    .dataframe tbody tr th {\n",
       "        vertical-align: top;\n",
       "    }\n",
       "\n",
       "    .dataframe thead th {\n",
       "        text-align: right;\n",
       "    }\n",
       "</style>\n",
       "<table border=\"1\" class=\"dataframe\">\n",
       "  <thead>\n",
       "    <tr style=\"text-align: right;\">\n",
       "      <th></th>\n",
       "      <th>Patient Age at Treatment</th>\n",
       "      <th>Date patient started trying to become pregnant OR date of last pregnancy</th>\n",
       "      <th>Total Number of Previous cycles, Both IVF and DI</th>\n",
       "      <th>Total Number of Previous treatments, Both IVF and DI at clinic</th>\n",
       "      <th>Total Number of Previous IVF cycles</th>\n",
       "      <th>Total Number of Previous DI cycles</th>\n",
       "      <th>Total number of previous pregnancies, Both IVF and DI</th>\n",
       "      <th>Total number of IVF pregnancies</th>\n",
       "      <th>Total number of DI pregnancies</th>\n",
       "      <th>Total number of live births - conceived through IVF or DI</th>\n",
       "      <th>...</th>\n",
       "      <th>Heart Three Sex</th>\n",
       "      <th>Heart Three Delivery Date</th>\n",
       "      <th>Heart Three Birth Congenital Abnormalities</th>\n",
       "      <th>Heart Four Weeks Gestation</th>\n",
       "      <th>Heart Four Birth Outcome</th>\n",
       "      <th>Heart Four Birth Weight</th>\n",
       "      <th>Heart Four Sex</th>\n",
       "      <th>Heart Four Delivery Date</th>\n",
       "      <th>Heart Four Birth Congenital Abnormalities</th>\n",
       "      <th>target</th>\n",
       "    </tr>\n",
       "    <tr>\n",
       "      <th>Live Birth Occurrence</th>\n",
       "      <th></th>\n",
       "      <th></th>\n",
       "      <th></th>\n",
       "      <th></th>\n",
       "      <th></th>\n",
       "      <th></th>\n",
       "      <th></th>\n",
       "      <th></th>\n",
       "      <th></th>\n",
       "      <th></th>\n",
       "      <th></th>\n",
       "      <th></th>\n",
       "      <th></th>\n",
       "      <th></th>\n",
       "      <th></th>\n",
       "      <th></th>\n",
       "      <th></th>\n",
       "      <th></th>\n",
       "      <th></th>\n",
       "      <th></th>\n",
       "      <th></th>\n",
       "    </tr>\n",
       "  </thead>\n",
       "  <tbody>\n",
       "    <tr>\n",
       "      <th>1.0</th>\n",
       "      <td>175766</td>\n",
       "      <td>54735</td>\n",
       "      <td>175766</td>\n",
       "      <td>175766</td>\n",
       "      <td>175766</td>\n",
       "      <td>175766</td>\n",
       "      <td>175766</td>\n",
       "      <td>175766</td>\n",
       "      <td>175766</td>\n",
       "      <td>175766</td>\n",
       "      <td>...</td>\n",
       "      <td>1739</td>\n",
       "      <td>1729</td>\n",
       "      <td>19</td>\n",
       "      <td>21</td>\n",
       "      <td>34</td>\n",
       "      <td>19</td>\n",
       "      <td>21</td>\n",
       "      <td>21</td>\n",
       "      <td>0</td>\n",
       "      <td>175744</td>\n",
       "    </tr>\n",
       "  </tbody>\n",
       "</table>\n",
       "<p>1 rows × 95 columns</p>\n",
       "</div>"
      ],
      "text/plain": [
       "                       Patient Age at Treatment  \\\n",
       "Live Birth Occurrence                             \n",
       "1.0                                      175766   \n",
       "\n",
       "                       Date patient started trying to become pregnant OR date of last pregnancy  \\\n",
       "Live Birth Occurrence                                                                             \n",
       "1.0                                                                54735                          \n",
       "\n",
       "                       Total Number of Previous cycles, Both IVF and DI  \\\n",
       "Live Birth Occurrence                                                     \n",
       "1.0                                                              175766   \n",
       "\n",
       "                       Total Number of Previous treatments, Both IVF and DI at clinic  \\\n",
       "Live Birth Occurrence                                                                   \n",
       "1.0                                                               175766                \n",
       "\n",
       "                       Total Number of Previous IVF cycles  \\\n",
       "Live Birth Occurrence                                        \n",
       "1.0                                                 175766   \n",
       "\n",
       "                       Total Number of Previous DI cycles  \\\n",
       "Live Birth Occurrence                                       \n",
       "1.0                                                175766   \n",
       "\n",
       "                       Total number of previous pregnancies, Both IVF and DI  \\\n",
       "Live Birth Occurrence                                                          \n",
       "1.0                                                               175766       \n",
       "\n",
       "                       Total number of IVF pregnancies  \\\n",
       "Live Birth Occurrence                                    \n",
       "1.0                                             175766   \n",
       "\n",
       "                       Total number of DI pregnancies  \\\n",
       "Live Birth Occurrence                                   \n",
       "1.0                                            175766   \n",
       "\n",
       "                       Total number of live births - conceived through IVF or DI  \\\n",
       "Live Birth Occurrence                                                              \n",
       "1.0                                                               175766           \n",
       "\n",
       "                       ...  Heart Three Sex  Heart Three Delivery Date  \\\n",
       "Live Birth Occurrence  ...                                               \n",
       "1.0                    ...             1739                       1729   \n",
       "\n",
       "                       Heart Three Birth Congenital Abnormalities  \\\n",
       "Live Birth Occurrence                                               \n",
       "1.0                                                            19   \n",
       "\n",
       "                       Heart Four Weeks Gestation  Heart Four Birth Outcome  \\\n",
       "Live Birth Occurrence                                                         \n",
       "1.0                                            21                        34   \n",
       "\n",
       "                       Heart Four Birth Weight  Heart Four Sex  \\\n",
       "Live Birth Occurrence                                            \n",
       "1.0                                         19              21   \n",
       "\n",
       "                       Heart Four Delivery Date  \\\n",
       "Live Birth Occurrence                             \n",
       "1.0                                          21   \n",
       "\n",
       "                       Heart Four Birth Congenital Abnormalities  target  \n",
       "Live Birth Occurrence                                                     \n",
       "1.0                                                            0  175744  \n",
       "\n",
       "[1 rows x 95 columns]"
      ]
     },
     "execution_count": 16,
     "metadata": {},
     "output_type": "execute_result"
    }
   ],
   "source": [
    "df.groupby('Live Birth Occurrence').count()"
   ]
  },
  {
   "cell_type": "code",
   "execution_count": 630,
   "metadata": {},
   "outputs": [
    {
     "name": "stderr",
     "output_type": "stream",
     "text": [
      "c:\\users\\fpc\\envs\\ivf\\lib\\site-packages\\IPython\\core\\interactiveshell.py:3051: DtypeWarning: Columns (6,7,29,31,32,43,48,50,51,52,53,54,77,83,89,90,91,92) have mixed types. Specify dtype option on import or set low_memory=False.\n",
      "  interactivity=interactivity, compiler=compiler, result=result)\n"
     ]
    },
    {
     "name": "stdout",
     "output_type": "stream",
     "text": [
      "(86169, 96)\n"
     ]
    }
   ],
   "source": [
    "df = pd.read_csv('data/ar-2015-2016.csv')\n",
    "\n",
    "df = (df.pipe(format_columns)\n",
    "        .pipe(create_cohort)\n",
    "        .pipe(create_target)\n",
    "        .pipe(drop_anomalous_cycles))\n",
    "\n",
    "print(df.shape)"
   ]
  },
  {
   "cell_type": "code",
   "execution_count": 9,
   "metadata": {},
   "outputs": [],
   "source": [
    "age_groups = ['18-34', '35-37', '38-39', '40-42', '43-44', '45-50']"
   ]
  },
  {
   "cell_type": "markdown",
   "metadata": {},
   "source": [
    "## 0.1 Number of patients in each class"
   ]
  },
  {
   "cell_type": "code",
   "execution_count": 476,
   "metadata": {},
   "outputs": [
    {
     "data": {
      "text/plain": [
       "target\n",
       "0.0    37577\n",
       "1.0    49875\n",
       "Name: Patient Age at Treatment, dtype: int64"
      ]
     },
     "execution_count": 476,
     "metadata": {},
     "output_type": "execute_result"
    }
   ],
   "source": [
    "df.groupby('target')['Patient Age at Treatment'].count()"
   ]
  },
  {
   "cell_type": "markdown",
   "metadata": {},
   "source": [
    "## 0.2 Number of patients in each age group"
   ]
  },
  {
   "cell_type": "code",
   "execution_count": 477,
   "metadata": {},
   "outputs": [
    {
     "data": {
      "text/plain": [
       "Patient Age at Treatment\n",
       "18-34    37826\n",
       "35-37    20154\n",
       "38-39    12989\n",
       "40-42    12242\n",
       "43-44     3266\n",
       "45-50      975\n",
       "Name: target, dtype: int64"
      ]
     },
     "execution_count": 477,
     "metadata": {},
     "output_type": "execute_result"
    }
   ],
   "source": [
    "df.groupby('Patient Age at Treatment')['target'].count()"
   ]
  },
  {
   "cell_type": "markdown",
   "metadata": {},
   "source": [
    "# 1 Initial data analysis"
   ]
  },
  {
   "cell_type": "markdown",
   "metadata": {},
   "source": [
    "## 1.1 Number of eggs collected by age group\n",
    "\n",
    "Outliers are not shown since the distributions have such long tails."
   ]
  },
  {
   "cell_type": "code",
   "execution_count": 389,
   "metadata": {
    "scrolled": false
   },
   "outputs": [
    {
     "data": {
      "image/png": "[encoded data removed]",
      "text/plain": [
       "<Figure size 432x288 with 1 Axes>"
      ]
     },
     "metadata": {
      "needs_background": "light"
     },
     "output_type": "display_data"
    }
   ],
   "source": [
    "fig, ax = plt.subplots()\n",
    "sns.boxplot(x='Patient Age at Treatment', y='Fresh Eggs Collected', ax=ax, data=df,\n",
    "           order=age_groups, showfliers=False)\n",
    "\n",
    "utils.remove_axes(ax)\n",
    "plt.savefig('images/eggs_collected_by_age.png', dpi=300, bbox_inches='tight')"
   ]
  },
  {
   "cell_type": "markdown",
   "metadata": {},
   "source": [
    "## 1.2 Proportion of patients with suitable embryos by Number eggs collected"
   ]
  },
  {
   "cell_type": "code",
   "execution_count": 390,
   "metadata": {},
   "outputs": [
    {
     "data": {
      "image/png": "[encoded data removed]",
      "text/plain": [
       "<Figure size 243x216 with 1 Axes>"
      ]
     },
     "metadata": {
      "needs_background": "light"
     },
     "output_type": "display_data"
    }
   ],
   "source": [
    "fig, ax = plt.subplots()\n",
    "\n",
    "mean_embryos = df.groupby('Fresh Eggs Collected')['target'].mean()\n",
    "count_embryos = df.groupby('Fresh Eggs Collected')['target'].count()\n",
    "mean_error = 1.96 * ((mean_embryos.values * (1-mean_embryos.values)) / count_embryos.values) **0.5\n",
    "\n",
    "# configure the plots \n",
    "x = mean_embryos.index\n",
    "y = mean_embryos.values\n",
    "\n",
    "ax.plot(x, y*100, color=colors[-1], lw=1.5)\n",
    "ax.fill_between(x, (y-mean_error)*100, (y+mean_error)*100, color=colors[-2], alpha=0.35)\n",
    "ax.set_xlim(0, 25)\n",
    "ax.set_ylim(0, 100)\n",
    "\n",
    "ax.set_ylabel('Cycles with suitable embryos (%)')\n",
    "ax.set_xlabel('Number of eggs collected')\n",
    "\n",
    "utils.remove_axes(ax)\n",
    "\n",
    "fig.set_size_inches(3+3/8, 3)\n",
    "plt.savefig('images/cycles_with_suitable_embryos.png', dpi=300, bbox_inches='tight')"
   ]
  },
  {
   "cell_type": "markdown",
   "metadata": {},
   "source": [
    "### 1.2.1 Proportion of patients with suitable embryos by Number eggs collected and age"
   ]
  },
  {
   "cell_type": "code",
   "execution_count": 391,
   "metadata": {
    "scrolled": true
   },
   "outputs": [
    {
     "data": {
      "image/png": "[encoded data removed]",
      "text/plain": [
       "<Figure size 243x216 with 1 Axes>"
      ]
     },
     "metadata": {
      "needs_background": "light"
     },
     "output_type": "display_data"
    }
   ],
   "source": [
    "fig, ax = plt.subplots()\n",
    "\n",
    "for age in age_groups[:-1]:\n",
    "    mask = df['Patient Age at Treatment']==age\n",
    "    mean_embryos = df[mask].groupby('Fresh Eggs Collected')['target'].mean()\n",
    "    count_embryos = df[mask].groupby('Fresh Eggs Collected')['target'].count()\n",
    "    mean_error = 1.96 * ((mean_embryos.values * (1-mean_embryos.values)) / count_embryos.values) **0.5\n",
    "    \n",
    "    # configure the plots \n",
    "    x = mean_embryos.index\n",
    "    y = mean_embryos.values\n",
    "    ax.plot(x, y*100, lw=1.5, label=age)\n",
    "    ax.fill_between(x, (y-mean_error)*100, (y+mean_error)*100, alpha=0.35)\n",
    "ax.legend()\n",
    "ax.set_xlim(0, 25)\n",
    "ax.set_ylim(0, 100)\n",
    "\n",
    "ax.set_ylabel('Cycles with suitable embryos (%)')\n",
    "ax.set_xlabel('Number of eggs collected')\n",
    "\n",
    "utils.remove_axes(ax)\n",
    "\n",
    "fig.set_size_inches(3+3/8, 3)\n",
    "plt.savefig('images/cycles_with_suitable_embryos_by_age.png', dpi=300, bbox_inches='tight')"
   ]
  },
  {
   "cell_type": "markdown",
   "metadata": {},
   "source": [
    "## 1.3 Proportion of patients with suitable embryos by age group"
   ]
  },
  {
   "cell_type": "code",
   "execution_count": 527,
   "metadata": {},
   "outputs": [
    {
     "data": {
      "image/png": "[encoded data removed]",
      "text/plain": [
       "<Figure size 432x288 with 1 Axes>"
      ]
     },
     "metadata": {
      "needs_background": "light"
     },
     "output_type": "display_data"
    }
   ],
   "source": [
    "age_grouping = df.groupby('Patient Age at Treatment')['target'].agg(['mean', 'count'])\n",
    "\n",
    "\n",
    "x = age_grouping.index\n",
    "y = age_grouping['mean'].values\n",
    "c = age_grouping['count'].values\n",
    "\n",
    "errors  =  1.96 *  ((y * (1-y)) / c) **0.5\n",
    "\n",
    "# plot the figure\n",
    "\n",
    "fig, ax = plt.subplots()\n",
    "\n",
    "ax.bar(np.arange(0,len(y)), y*100, yerr=errors*100, capsize=2, color=colors)\n",
    "ax.set_ylabel('Cycles with suitable embryos (%)')\n",
    "utils.remove_axes(ax)\n",
    "\n",
    "# set the xtick labels\n",
    "ax.set_xticklabels([''] + age_groups)\n",
    "ax.set_xlabel('Age group (years)')\n",
    "plt.savefig('images/cycles_with_embryos_by_age_group.png', dpi=300, bbox_inches='tight')"
   ]
  },
  {
   "cell_type": "markdown",
   "metadata": {},
   "source": [
    "## 1.4 Proportion of patients with suitable embryos by infertility diagnosis"
   ]
  },
  {
   "cell_type": "code",
   "execution_count": 399,
   "metadata": {},
   "outputs": [],
   "source": [
    "infertility_columns = [col for col in df.columns if col.startswith('Cause of Infertility')]"
   ]
  },
  {
   "cell_type": "code",
   "execution_count": 456,
   "metadata": {},
   "outputs": [
    {
     "name": "stderr",
     "output_type": "stream",
     "text": [
      "c:\\users\\fpc\\envs\\ivf\\lib\\site-packages\\numpy\\core\\fromnumeric.py:3335: RuntimeWarning: Mean of empty slice.\n",
      "  out=out, **kwargs)\n",
      "c:\\users\\fpc\\envs\\ivf\\lib\\site-packages\\numpy\\core\\_methods.py:161: RuntimeWarning: invalid value encountered in double_scalars\n",
      "  ret = ret.dtype.type(ret / rcount)\n"
     ]
    },
    {
     "data": {
      "image/png": "[encoded data removed]",
      "text/plain": [
       "<Figure size 288x216 with 1 Axes>"
      ]
     },
     "metadata": {
      "needs_background": "light"
     },
     "output_type": "display_data"
    }
   ],
   "source": [
    "means = []\n",
    "errors = []\n",
    "\n",
    "age='18-34'\n",
    "\n",
    "for col in infertility_columns:\n",
    "    mask = (df[col]==1) & (df['Patient Age at Treatment']==age)\n",
    "    infertility_target = df.loc[mask, 'target'].values\n",
    "    mean_embryos = np.mean(infertility_target)\n",
    "    count_embryos = len(infertility_target)\n",
    "    error = 1.96 *  ((mean_embryos * (1-mean_embryos)) / count_embryos) **0.5\n",
    "    means.append(mean_embryos)\n",
    "    errors.append(error)\n",
    "    \n",
    "# make the figure\n",
    "xlabels = [col.replace('Cause of Infertility - ', '') for col in infertility_columns]\n",
    "\n",
    "\n",
    "fig, ax = plt.subplots()\n",
    "ax.bar(xlabels[:4], np.array(means[:4])*100, yerr=np.array(errors[:4])*100, capsize=2, color=colors[:4])\n",
    "utils.remove_axes(ax)\n",
    "plt.setp(ax.get_xticklabels(), rotation=90)\n",
    "ax.set_title('Infertility diagnosis : {} years'.format(age), fontsize=11)\n",
    "ax.set_ylabel('Cycles with suitable embryos (%)')\n",
    "fig.set_size_inches(4,3)\n",
    "\n",
    "plt.savefig('images/cycles_with_embryos_by_infertility_diagnosis_{}.png'.format(age), dpi=300, bbox_inches='tight')"
   ]
  },
  {
   "cell_type": "markdown",
   "metadata": {},
   "source": [
    "## 1.5 By Type of treatment"
   ]
  },
  {
   "cell_type": "code",
   "execution_count": 498,
   "metadata": {},
   "outputs": [
    {
     "data": {
      "image/png": "[encoded data removed]",
      "text/plain": [
       "<Figure size 288x216 with 1 Axes>"
      ]
     },
     "metadata": {
      "needs_background": "light"
     },
     "output_type": "display_data"
    }
   ],
   "source": [
    "treatment_types = df.groupby('Specific treatment type')['target'].agg(['mean','count'])\n",
    "\n",
    "x = treatment_types.index\n",
    "y = treatment_types['mean'].values\n",
    "c = treatment_types['count'].values\n",
    "\n",
    "errors  =  1.96 *  ((y * (1-y)) / c) **0.5\n",
    "\n",
    "# plot the figure\n",
    "\n",
    "fig, ax = plt.subplots()\n",
    "\n",
    "ax.bar(x, y*100, yerr=errors*100, color=colors[-4], capsize=2)\n",
    "ax.set_ylabel('Cycles with suitable embryos (%)')\n",
    "utils.remove_axes(ax)\n",
    "\n",
    "fig.set_size_inches(4,3)\n",
    "plt.savefig('images/cycles_with_embryos_by_type_of_treatment.png', dpi=300, bbox_inches='tight')"
   ]
  },
  {
   "cell_type": "markdown",
   "metadata": {},
   "source": [
    "# 2.0 Modelling\n",
    "\n",
    " - To do : create hold-out test set (stratified by age group) of 20 % of cycles X, Xt, y, yt\n",
    " - Five-fold cross validation on remaining training set\n",
    " - Bootstap of errors\n",
    " - Train several models:\n",
    "     - Logistic regression\n",
    "     - Random forest\n",
    " \n",
    " - Optional : SHAP of features."
   ]
  },
  {
   "cell_type": "code",
   "execution_count": 631,
   "metadata": {},
   "outputs": [],
   "source": [
    "def create_training_test(df, features=None, seed=123, test_size=0.2):\n",
    "    \"\"\"\n",
    "    Creates the training and test set for modelling. The training and test\n",
    "    set are stratified by age.\n",
    "    \n",
    "    Parameters:\n",
    "    -----------\n",
    "    df : pd.DataFrame, \n",
    "        The HFEA IVF dataset.\n",
    "    \n",
    "    features : List[str] (default=None),\n",
    "        List of features (columns) to include in the training/test sets.\n",
    "        If None 4 features are usef.\n",
    "    \n",
    "    seed : int (default=123), \n",
    "        Random seed for the split.\n",
    "    \n",
    "    test_size : float, \n",
    "        Size of the hold-out test.\n",
    "    \n",
    "    Returns:\n",
    "    --------\n",
    "    X : np.array,\n",
    "        Training set.\n",
    "    \n",
    "    Xt : np.array,\n",
    "        Hold-out test set.\n",
    "    \n",
    "    y : np.array, \n",
    "        Target for the training set.\n",
    "    \n",
    "    yt : np.array,\n",
    "        Target for the hold-out test set.\n",
    "    \"\"\"\n",
    "    if features is None:\n",
    "        infertility_columns = [col for col in df.columns if col.startswith('Cause of Infertility')]\n",
    "        features = (['Patient Age at Treatment', 'Fresh Eggs Collected', 'Specific treatment type'] +\n",
    "                    infertility_columns[:4])\n",
    "        \n",
    "    data = df[features].values\n",
    "    target = df['target'].values\n",
    "    groups = df['Patient Age at Treatment']\n",
    "    return train_test_split(data, target, stratify=groups, test_size=test_size, random_state=seed)\n",
    "\n"
   ]
  },
  {
   "cell_type": "code",
   "execution_count": 636,
   "metadata": {},
   "outputs": [],
   "source": [
    "def fit_model(X, y, model=XGBClassifier, params={}, uid=None,\n",
    "              cv_splitter=StratifiedKFold, nsplits=5):\n",
    "    \"\"\"\n",
    "    Fits a model using given params and CV method and returns the fitted \n",
    "    classifier. If multiple-fold cross-validation is used each individual \n",
    "    classifier is returned within an iterable\n",
    "    \n",
    "    Parameters:\n",
    "    -----------\n",
    "    X : np.array,\n",
    "        Training data shape (n,m) where n is the number of instances and m the number of \n",
    "        features.\n",
    "        \n",
    "    y : np.array,\n",
    "        Labels for training data, shape (n,).\n",
    "    \n",
    "    model : sklearn.base.BaseEstimater (default=XGBClassifier),\n",
    "        The classifier to fit. Must be compatible with the sklearn API.\n",
    "    \n",
    "    params : dict,\n",
    "        Parameter dictionary to be passed to the model.\n",
    "    \n",
    "    uid : np.array (default=None),\n",
    "        User ids for each training instance, shape (n,). This is passed to the \n",
    "        cv_splitter so (for example) patient-wise validation folds can be \n",
    "        created.\n",
    "    \n",
    "    cv_splitter : cross-validation generator, \n",
    "        The cross-validation splitter (consitent with sklearn API)\n",
    "        \n",
    "    nsplits : int,\n",
    "        The number of validation folds to create. Passed to cv_splitter.\n",
    "        \n",
    "    Returns:\n",
    "    --------\n",
    "    models, sklearn.base.BaseEstimater \n",
    "        Returns the fitted model(s)instance.\n",
    "    \"\"\"\n",
    "    \n",
    "    splitter = cv_splitter(n_splits=nsplits)\n",
    "    \n",
    "    oof_preds = np.zeros(len(X))\n",
    "    models = []\n",
    "    for train_index, test_index in splitter.split(X):\n",
    "        X_train, X_test = X[train_index], X[test_index]\n",
    "        y_train, y_test = y[train_index], y[test_index]\n",
    "        clf = model(**params)\n",
    "        clf.fit(X_train, y_train)\n",
    "        models.append(clf)\n",
    "        oof_preds[test_index] = clf.predict_proba(X_test)[:,1]\n",
    "    oof_score = roc_auc_score(y, oof_preds)\n",
    "    return models, oof_score"
   ]
  },
  {
   "cell_type": "code",
   "execution_count": 633,
   "metadata": {},
   "outputs": [],
   "source": [
    "df = encode_columns(df)"
   ]
  },
  {
   "cell_type": "code",
   "execution_count": 634,
   "metadata": {},
   "outputs": [],
   "source": [
    "X, Xt, y, yt = create_training_test(df)"
   ]
  },
  {
   "cell_type": "markdown",
   "metadata": {},
   "source": [
    "## 2.1 Model 1\n",
    "\n",
    "Uses only one features\n",
    "    - Patient Age"
   ]
  },
  {
   "cell_type": "code",
   "execution_count": 624,
   "metadata": {},
   "outputs": [],
   "source": [
    "infertility_columns = [col for col in df.columns if col.startswith('Cause of Infertility')]\n",
    "features = ['Patient Age at Treatment','Fresh Eggs Collected', 'Specific treatment type',infertility_columns[:4]]"
   ]
  },
  {
   "cell_type": "code",
   "execution_count": 638,
   "metadata": {},
   "outputs": [
    {
     "name": "stdout",
     "output_type": "stream",
     "text": [
      "----*----\n",
      "Patient Age at Treatment\n",
      "AUROC: 0.635 CI: 0.631-0.639\n",
      "----*----\n",
      "Fresh Eggs Collected\n",
      "AUROC: 0.838 CI: 0.835-0.841\n",
      "----*----\n",
      "Specific treatment type\n",
      "AUROC: 0.533 CI: 0.530-0.536\n",
      "----*----\n",
      "['Cause of Infertility - Ovulatory Disorder', 'Cause of Infertility - Male Factor', 'Cause of Infertility - Patient Unexplained', 'Cause of Infertility - Endometriosis']\n",
      "AUROC: 0.549 CI: 0.545-0.552\n"
     ]
    }
   ],
   "source": [
    "# perform boot strapping for errors \n",
    "for feature in features:\n",
    "    X, Xt, y, yt = create_training_test(df, features=feature)\n",
    "    ncycles = 100\n",
    "    scores = np.zeros(ncycles)\n",
    "    for i in range(ncycles):\n",
    "        bs_idx = np.random.randint(low=0, high=len(X), size=len(X))\n",
    "        X_bs = X[bs_idx]\n",
    "        y_bs = y[bs_idx]\n",
    "        # if only one feature add additional dimension\n",
    "        try:\n",
    "            X_bs.shape[1]\n",
    "        except:\n",
    "            X_bs = X_bs.reshape((-1,1))\n",
    "            Xt = Xt.reshape((-1,1))\n",
    "        models, score = fit_model(X_bs, y_bs, cv_splitter=KFold)\n",
    "        scores[i] = score\n",
    "    confidence = utils.confidence_intervals(scores)\n",
    "    print('----*----')\n",
    "    print(feature)\n",
    "    print('AUROC: {0:.3f} CI: {1:.3f}-{2:.3f}'.format(np.mean(scores), confidence[0], confidence[1]))"
   ]
  },
  {
   "cell_type": "markdown",
   "metadata": {},
   "source": [
    "### 2.1.1 Model 1.1\n",
    "\n",
    "Age and number of eggs\n"
   ]
  },
  {
   "cell_type": "code",
   "execution_count": 690,
   "metadata": {},
   "outputs": [],
   "source": [
    "features = ['Patient Age at Treatment','Fresh Eggs Collected']"
   ]
  },
  {
   "cell_type": "code",
   "execution_count": 697,
   "metadata": {},
   "outputs": [
    {
     "name": "stdout",
     "output_type": "stream",
     "text": [
      "----*----\n",
      "AUROC: 0.843 CI: 0.840-0.846\n"
     ]
    }
   ],
   "source": [
    "# perform boot strapping for errors\n",
    "X, Xt, y, yt = create_training_test(df, features=features)\n",
    "ncycles = 100\n",
    "scores = np.zeros(ncycles)\n",
    "for i in range(ncycles):\n",
    "    bs_idx = np.random.randint(low=0, high=len(X), size=len(X))\n",
    "    X_bs = X[bs_idx]\n",
    "    y_bs = y[bs_idx]\n",
    "    models, score = fit_model(X_bs, y_bs, cv_splitter=KFold)\n",
    "    scores[i] = score\n",
    "confidence = utils.confidence_intervals(scores)\n",
    "print('----*----')\n",
    "print('AUROC: {0:.3f} CI: {1:.3f}-{2:.3f}'.format(np.mean(scores), confidence[0], confidence[1]))"
   ]
  },
  {
   "cell_type": "code",
   "execution_count": 692,
   "metadata": {},
   "outputs": [],
   "source": [
    "models, score = fit_model(X, y, cv_splitter=KFold)"
   ]
  },
  {
   "cell_type": "code",
   "execution_count": 696,
   "metadata": {},
   "outputs": [],
   "source": [
    "np.save('results/HFEA_model_age_number_eggs.npy', models)"
   ]
  },
  {
   "cell_type": "markdown",
   "metadata": {},
   "source": [
    "### 2.1.2  Model 1.2"
   ]
  },
  {
   "cell_type": "code",
   "execution_count": 641,
   "metadata": {},
   "outputs": [],
   "source": [
    "features = ['Patient Age at Treatment','Fresh Eggs Collected', 'Specific treatment type']"
   ]
  },
  {
   "cell_type": "code",
   "execution_count": 642,
   "metadata": {},
   "outputs": [
    {
     "name": "stdout",
     "output_type": "stream",
     "text": [
      "----*----\n",
      "AUROC: 0.844 CI: 0.842-0.847\n"
     ]
    }
   ],
   "source": [
    "# perform boot strapping for errors\n",
    "X, Xt, y, yt = create_training_test(df, features=features)\n",
    "ncycles = 100\n",
    "scores = np.zeros(ncycles)\n",
    "for i in range(ncycles):\n",
    "    bs_idx = np.random.randint(low=0, high=len(X), size=len(X))\n",
    "    X_bs = X[bs_idx]\n",
    "    y_bs = y[bs_idx]\n",
    "    models, score = fit_model(X_bs, y_bs, cv_splitter=KFold)\n",
    "    scores[i] = score\n",
    "confidence = utils.confidence_intervals(scores)\n",
    "print('----*----')\n",
    "print('AUROC: {0:.3f} CI: {1:.3f}-{2:.3f}'.format(np.mean(scores), confidence[0], confidence[1]))"
   ]
  },
  {
   "cell_type": "markdown",
   "metadata": {},
   "source": [
    "### 2.1.3 Model 1.3"
   ]
  },
  {
   "cell_type": "code",
   "execution_count": 643,
   "metadata": {},
   "outputs": [],
   "source": [
    "features = ['Patient Age at Treatment','Fresh Eggs Collected'] + infertility_columns[:4]"
   ]
  },
  {
   "cell_type": "code",
   "execution_count": 644,
   "metadata": {},
   "outputs": [
    {
     "name": "stdout",
     "output_type": "stream",
     "text": [
      "----*----\n",
      "AUROC: 0.845 CI: 0.842-0.848\n"
     ]
    }
   ],
   "source": [
    "# perform boot strapping for errors\n",
    "X, Xt, y, yt = create_training_test(df, features=features)\n",
    "ncycles = 100\n",
    "scores = np.zeros(ncycles)\n",
    "for i in range(ncycles):\n",
    "    bs_idx = np.random.randint(low=0, high=len(X), size=len(X))\n",
    "    X_bs = X[bs_idx]\n",
    "    y_bs = y[bs_idx]\n",
    "    models, score = fit_model(X_bs, y_bs, cv_splitter=KFold)\n",
    "    scores[i] = score\n",
    "confidence = utils.confidence_intervals(scores)\n",
    "print('----*----')\n",
    "print('AUROC: {0:.3f} CI: {1:.3f}-{2:.3f}'.format(np.mean(scores), confidence[0], confidence[1]))"
   ]
  },
  {
   "cell_type": "markdown",
   "metadata": {},
   "source": [
    "### 2.14 Model 1.4"
   ]
  },
  {
   "cell_type": "code",
   "execution_count": 645,
   "metadata": {},
   "outputs": [],
   "source": [
    "features = ['Patient Age at Treatment','Fresh Eggs Collected', 'Specific treatment type'] + infertility_columns[:4]"
   ]
  },
  {
   "cell_type": "code",
   "execution_count": 646,
   "metadata": {},
   "outputs": [
    {
     "name": "stdout",
     "output_type": "stream",
     "text": [
      "----*----\n",
      "AUROC: 0.845 CI: 0.842-0.848\n"
     ]
    }
   ],
   "source": [
    "# perform boot strapping for errors\n",
    "X, Xt, y, yt = create_training_test(df, features=features)\n",
    "ncycles = 100\n",
    "scores = np.zeros(ncycles)\n",
    "for i in range(ncycles):\n",
    "    bs_idx = np.random.randint(low=0, high=len(X), size=len(X))\n",
    "    X_bs = X[bs_idx]\n",
    "    y_bs = y[bs_idx]\n",
    "    models, score = fit_model(X_bs, y_bs, cv_splitter=KFold)\n",
    "    scores[i] = score\n",
    "confidence = utils.confidence_intervals(scores)\n",
    "print('----*----')\n",
    "print('AUROC: {0:.3f} CI: {1:.3f}-{2:.3f}'.format(np.mean(scores), confidence[0], confidence[1]))"
   ]
  },
  {
   "cell_type": "markdown",
   "metadata": {},
   "source": [
    "# 3. Model hyperparameter tuning"
   ]
  },
  {
   "cell_type": "code",
   "execution_count": 648,
   "metadata": {},
   "outputs": [],
   "source": [
    "def tune_model(X, y, param_grid, uid=None, model=XGBClassifier, \n",
    "               cv_splitter=KFold, n_splits=5, metric='roc_auc'):\n",
    "    \"\"\"Tunes hyperparameters of a model by performing cross-validated grid_search.\n",
    "    \n",
    "    Parameters:\n",
    "    -----------\n",
    "    X : np.array, \n",
    "        Training data shape (n,m) where n is the number of instances and m the\n",
    "        number of features.\n",
    "        \n",
    "    y : np.array,\n",
    "        Labels for training data, shape (n,).\n",
    "    \n",
    "    param_grid : dict, \n",
    "        Parameter dictionary to be passed to the model. Each value should be a \n",
    "        list of values of the specified parameter to search.\n",
    "            \n",
    "    model : sklearn.Base.BaseEstimater (default=XGBClassifier),\n",
    "        The classifier to fit. Must be compatible with the sklearn API.\n",
    "        \n",
    "    cv_splitter : cross-validation generator (default=GroupKFold),\n",
    "        The cross-validation splitter (consitent with sklearn API).\n",
    "    \n",
    "    nsplits : int,\n",
    "        The number of validation folds to create. Passed to cv_splitter.\n",
    "        \n",
    "    Returns\n",
    "    --------\n",
    "    clf : GridSearchCV,\n",
    "        A fitted instance of a GridSearchCV class.\n",
    "        \n",
    "    \"\"\"\n",
    "    # instantiate model\n",
    "    model = XGBClassifier()\n",
    "    # get training / validation fold idxs\n",
    "    cv_splits = None\n",
    "    if cv_splitter is not None:\n",
    "        cv_splitter = cv_splitter(n_splits=n_splits)\n",
    "        cv_splits = []\n",
    "        for train_index, test_index in cv_splitter.split(X, y):\n",
    "            cv_splits.append((train_index, test_index))\n",
    "    hyperparameter = GridSearchCV(estimator=model, param_grid=param_grid, \n",
    "                                  scoring=metric, cv=cv_splits)\n",
    "    hyperparameter.fit(X, y)\n",
    "    \n",
    "    return hyperparameter"
   ]
  },
  {
   "cell_type": "code",
   "execution_count": 649,
   "metadata": {},
   "outputs": [],
   "source": [
    "features = ['Patient Age at Treatment','Fresh Eggs Collected'] + infertility_columns[:4]"
   ]
  },
  {
   "cell_type": "code",
   "execution_count": 651,
   "metadata": {},
   "outputs": [],
   "source": [
    "param_grid =  {'max_depth':[2,3,4],'subsample':[1,0.9, 0.8], 'gamma':[1,5,10,25], 'learning_rate':[0.05,0.025,0.1], 'n_estimators':[75,100, 125]}"
   ]
  },
  {
   "cell_type": "code",
   "execution_count": 655,
   "metadata": {},
   "outputs": [],
   "source": [
    "# perform boot strapping for errors\n",
    "X, Xt, y, yt = create_training_test(df, features=features)\n",
    "\n",
    "hyperparameters = tune_model(X, y, param_grid=param_grid)"
   ]
  },
  {
   "cell_type": "code",
   "execution_count": 657,
   "metadata": {},
   "outputs": [
    {
     "data": {
      "text/plain": [
       "{'gamma': 1,\n",
       " 'learning_rate': 0.1,\n",
       " 'max_depth': 3,\n",
       " 'n_estimators': 100,\n",
       " 'subsample': 0.8}"
      ]
     },
     "execution_count": 657,
     "metadata": {},
     "output_type": "execute_result"
    }
   ],
   "source": [
    "hyperparameters.best_params_"
   ]
  },
  {
   "cell_type": "code",
   "execution_count": 661,
   "metadata": {},
   "outputs": [],
   "source": [
    "np.save('results/y_true_xgboost.npy', yt)"
   ]
  },
  {
   "cell_type": "code",
   "execution_count": 668,
   "metadata": {},
   "outputs": [
    {
     "name": "stdout",
     "output_type": "stream",
     "text": [
      "----*----\n",
      "AUROC: 0.841 CI: 0.840-0.841\n"
     ]
    }
   ],
   "source": [
    "# perform boot strapping for errors\n",
    "X, Xt, y, yt = create_training_test(df, features=features)\n",
    "ncycles = 250\n",
    "scores = np.zeros(ncycles)\n",
    "yt_preds_list = []\n",
    "for i in range(ncycles):\n",
    "    bs_idx = np.random.randint(low=0, high=len(X), size=len(X))\n",
    "    X_bs = X[bs_idx]\n",
    "    y_bs = y[bs_idx]\n",
    "    models, score = fit_model(X_bs, y_bs, cv_splitter=KFold, params=hyperparameters.best_params_)\n",
    "    yt_preds = np.zeros(len(Xt))\n",
    "    for model in models:\n",
    "        yt_preds += model.predict_proba(Xt)[:,1]/len(models)\n",
    "    scores[i] = roc_auc_score(yt, yt_preds)\n",
    "    yt_preds_list.append(yt_preds)\n",
    "confidence = utils.confidence_intervals(scores)\n",
    "print('----*----')\n",
    "print('AUROC: {0:.3f} CI: {1:.3f}-{2:.3f}'.format(np.mean(scores), confidence[0], confidence[1]))\n",
    "\n",
    "np.save('results/y_preds_xgboost.npy', yt_preds_list)"
   ]
  },
  {
   "cell_type": "markdown",
   "metadata": {},
   "source": [
    "## 3.1 Evaluation of model"
   ]
  },
  {
   "cell_type": "code",
   "execution_count": 674,
   "metadata": {},
   "outputs": [],
   "source": [
    "bs_preds = np.load('results/y_preds_xgboost.npy')"
   ]
  },
  {
   "cell_type": "code",
   "execution_count": 676,
   "metadata": {},
   "outputs": [],
   "source": [
    "mean_preds = np.mean(bs_preds, axis=0)\n",
    "fpr, tpr, _ = roc_curve(yt, mean_preds)"
   ]
  },
  {
   "cell_type": "code",
   "execution_count": 682,
   "metadata": {},
   "outputs": [
    {
     "data": {
      "image/png": "[encoded data removed]",
      "text/plain": [
       "<Figure size 288x216 with 1 Axes>"
      ]
     },
     "metadata": {
      "needs_background": "light"
     },
     "output_type": "display_data"
    }
   ],
   "source": [
    "fig, ax = plt.subplots()\n",
    "ax.plot(fpr, tpr, color=colors[-2])\n",
    "ax.set_xlim(0, 1)\n",
    "ax.set_ylim(0, 1)\n",
    "\n",
    "ax.set_xlabel('FPR')\n",
    "ax.set_ylabel('TPR')\n",
    "\n",
    "fig.set_size_inches(4,3)\n",
    "plt.savefig('images/HFEA_model_evaluation_ROC.png', dpi=300, bbox_inches='tight')"
   ]
  },
  {
   "cell_type": "code",
   "execution_count": 689,
   "metadata": {},
   "outputs": [
    {
     "data": {
      "image/png": "[encoded data removed]",
      "text/plain": [
       "<Figure size 288x216 with 1 Axes>"
      ]
     },
     "metadata": {
      "needs_background": "light"
     },
     "output_type": "display_data"
    }
   ],
   "source": [
    "fig, ax = plt.subplots()\n",
    "\n",
    "ax.hist(mean_preds, color=colors[-2])\n",
    "ax.set_xlabel('Predicted probabilty')\n",
    "ax.set_ylabel('Number of cycles')\n",
    "ax.set_xlim(0,1)\n",
    "utils.remove_axes(ax)\n",
    "\n",
    "fig.set_size_inches(4,3)\n",
    "plt.savefig('images/HFEA_model_predictions.png', dpi=300, bbox_inches='tight')"
   ]
  },
  {
   "cell_type": "code",
   "execution_count": null,
   "metadata": {},
   "outputs": [],
   "source": []
  }
 ],
 "metadata": {
  "kernelspec": {
   "display_name": "Python 3",
   "language": "python",
   "name": "python3"
  },
  "language_info": {
   "codemirror_mode": {
    "name": "ipython",
    "version": 3
   },
   "file_extension": ".py",
   "mimetype": "text/x-python",
   "name": "python",
   "nbconvert_exporter": "python",
   "pygments_lexer": "ipython3",
   "version": "3.7.2"
  }
 },
 "nbformat": 4,
 "nbformat_minor": 4
}
